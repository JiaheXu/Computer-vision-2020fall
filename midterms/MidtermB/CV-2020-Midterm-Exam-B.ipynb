{
 "cells": [
  {
   "cell_type": "code",
   "execution_count": 1,
   "metadata": {
    "id": "Hwc3WeIW1UyN"
   },
   "outputs": [],
   "source": [
    "%matplotlib inline\n",
    "import matplotlib.pyplot as plt\n",
    "import numpy as np\n",
    "import cv2\n",
    "import pickle\n",
    "\n",
    "# to store your answers\n",
    "answers = {}"
   ]
  },
  {
   "cell_type": "markdown",
   "metadata": {
    "id": "rxjht_qo460_"
   },
   "source": [
    "### Read this First\n",
    "\n",
    "#### We have provided a cell for each of the short and long questions. In some cases the cell also defines useful values. Please do not add additional cells. \n",
    "\n",
    "#### We've given an example of what we'd like to see in the first two cells as an example. Please print your answers from the computational cell to appear after it.  If there are two elements, print both one after the other.\n",
    "\n",
    "### What to hand in\n",
    "#### CV-2020-Midterm-Exam-B.ipynb and answers.pkl(it will be automatically generated as you finish everything and run till the end)\n"
   ]
  },
  {
   "cell_type": "markdown",
   "metadata": {
    "id": "kYpic3oTTRqk"
   },
   "source": [
    "### Some functions you might find useful\n"
   ]
  },
  {
   "cell_type": "code",
   "execution_count": 2,
   "metadata": {
    "id": "9A5mJXRJTRql"
   },
   "outputs": [],
   "source": [
    "def sk(v) :\n",
    "  \"\"\" Computes the skew-symmetric matrix given a vector v\n",
    "      Args:\n",
    "        v: Vector containing 3 values [v0, v1, v2]\n",
    "      Return:\n",
    "        sk: Skew symmetric matrix form of vector v\n",
    "            [0,  -v2,  v1]\n",
    "            [v2,   0, -v0]\n",
    "            [-v1, v0,   0]\n",
    "  \"\"\"\n",
    "  return np.array([[0,-v[2],v[1]],[v[2],0,-v[0]],[-v[1],v[0],0]])"
   ]
  },
  {
   "cell_type": "markdown",
   "metadata": {
    "id": "r9NBHUeATRqp"
   },
   "source": [
    "### Example Question and Answer"
   ]
  },
  {
   "cell_type": "markdown",
   "metadata": {
    "id": "6fZRxeg85DRP"
   },
   "source": [
    "**Q1: What is the product of the matrix H and vector x in the cell below?**"
   ]
  },
  {
   "cell_type": "code",
   "execution_count": 3,
   "metadata": {
    "colab": {
     "base_uri": "https://localhost:8080/"
    },
    "id": "NGf9Aw2m6IgR",
    "outputId": "e281948a-638e-4d7f-b585-40a4cbfddec4"
   },
   "outputs": [
    {
     "name": "stdout",
     "output_type": "stream",
     "text": [
      "[3. 3. 3.]\n"
     ]
    }
   ],
   "source": [
    "H = np.ones((3,3))\n",
    "x = np.array([1,1,1])\n",
    "print(H@x)"
   ]
  },
  {
   "cell_type": "markdown",
   "metadata": {
    "id": "9mYFeUJTTRqw"
   },
   "source": [
    "## Short Questions (4 pts each, 20 pts total)"
   ]
  },
  {
   "cell_type": "markdown",
   "metadata": {
    "id": "811yQPLb6u5N"
   },
   "source": [
    "**1. Given the homography [1,2,3;4,5,6;7,8,9], what is the projection of the point [1,2]. Please print the resulting 2d coordinate vector from the projective coordinates.**\n"
   ]
  },
  {
   "cell_type": "code",
   "execution_count": 4,
   "metadata": {
    "id": "9MtQv0_z46TR"
   },
   "outputs": [
    {
     "name": "stdout",
     "output_type": "stream",
     "text": [
      "[0.25  0.625]\n"
     ]
    }
   ],
   "source": [
    "H = np.array([[1.0,2,3],[4,5,6],[7,8,9]])\n",
    "p = np.array([1.0,2,1.0])\n",
    "p = H @ p\n",
    "p /= p[2]\n",
    "#TODO: compute pp, which should be a numpy array of shape(2,). Please do not change the shape of answer, otherwise it will be autograded as incorrect\n",
    "pp = np.zeros((2,))\n",
    "pp = p[0:2]\n",
    "print(pp)\n",
    "\n",
    "# store the answer. Do not modify this\n",
    "answers['short1'] = pp # worth 4 points"
   ]
  },
  {
   "cell_type": "markdown",
   "metadata": {
    "id": "TVwB0WHr8PnM"
   },
   "source": [
    "**2. Given the convolution kernel S = [0,0,1,2,4,8,4,2,1,0,0] and the derivative kernel  D = [1,-1], compute\n",
    "(1) the single kernel that combines smoothing by S and computing the derivative as a single kernel.\n",
    "(2) the single kernel that combines smoothing by S and computing the second derivative as a single kernel.**"
   ]
  },
  {
   "cell_type": "code",
   "execution_count": 5,
   "metadata": {
    "id": "B3fWlSp683gm"
   },
   "outputs": [
    {
     "name": "stdout",
     "output_type": "stream",
     "text": [
      "[ 1  1  2  4 -4 -2 -1 -1]\n",
      "[ 1  0  1  2 -8  2  1  0  1]\n"
     ]
    }
   ],
   "source": [
    "from scipy.signal import convolve\n",
    "\n",
    "S = np.array([ 1, 2, 4, 8, 4, 2, 1])\n",
    "D = np.array([1,-1])\n",
    "\n",
    "#TODO: compute S1 and S2, i.e. the kernels in (1) and (2)\n",
    "S1 = np.zeros((8,))\n",
    "S2 = np.zeros((9,))\n",
    "\n",
    "S1 = convolve(S,D)\n",
    "S2 = convolve(S1,D)\n",
    "\n",
    "print(S1)\n",
    "print(S2)\n",
    "\n",
    "# store the answer. Do not modify this\n",
    "answers['short2'] = {}\n",
    "answers['short2']['S1'] = S1 # worth 2 points\n",
    "answers['short2']['S2'] = S2 # worth 2 points"
   ]
  },
  {
   "cell_type": "markdown",
   "metadata": {
    "id": "eCJlyB1193UG"
   },
   "source": [
    "**3.Find the harris corner response given the gradient values in the variable SQ3 using a k value of 0.05. Round to the nearest 100 (use round(X,-2)). the matrix SQ3 is an n x 2 matrix, where each row is an image gradient.\n",
    "**"
   ]
  },
  {
   "cell_type": "code",
   "execution_count": 6,
   "metadata": {
    "id": "_7Pefq8L921l"
   },
   "outputs": [
    {
     "name": "stdout",
     "output_type": "stream",
     "text": [
      "2300.0\n"
     ]
    }
   ],
   "source": [
    "SQ3 = np.array([[1,2],[2,3],[1,3],[-5, 4],[2, 3],[4, -4],[-1,-1]])\n",
    "def find_eigenvalues(h11, h12, h21, h22):\n",
    "\n",
    "    x2 = h11\n",
    "    xy = h12\n",
    "    y2 = h22\n",
    "    last_term = np.sqrt(4.0 * xy * xy + (x2 - y2) * (x2 - y2))\n",
    "    lambda_1 = 0.5 * ((x2 + y2) + last_term)\n",
    "    lambda_2 = 0.5 * ((x2 + y2) - last_term)\n",
    "    ##\n",
    "    return lambda_1, lambda_2\n",
    "#TODO: compute edgeresponse\n",
    "edgeresponse = 0.0\n",
    "\n",
    "i_x = SQ3[:,0]\n",
    "i_y = SQ3[:,1]\n",
    "i_x2 = i_x * i_x\n",
    "i_xy = i_x * i_y\n",
    "i_y2 = i_y * i_y\n",
    "i_x2_sum = np.sum(i_x2)\n",
    "i_xy_sum = np.sum(i_xy)\n",
    "i_y2_sum = np.sum(i_y2)\n",
    "\n",
    "k = 0.05\n",
    "e1, e2 = find_eigenvalues(i_x2_sum, i_xy_sum, i_xy_sum, i_y2_sum)\n",
    "edgeresponse = e1 * e2 - (k * (e1 + e2) ** 2)\n",
    "\n",
    "print(round(edgeresponse,-2))\n",
    "\n",
    "# store the answer. Do not modify this\n",
    "answers['short3'] = round(edgeresponse,-2) # worth 4 points"
   ]
  },
  {
   "cell_type": "markdown",
   "metadata": {
    "id": "HNK3Xnhl_Y8H"
   },
   "source": [
    "**4. Compute the F matrix from the values given below and then compute the coefficients of the epipolar line in the left image for the point [3, 4] in the right image**\n",
    "\n",
    "K = [10, 0, 0; 0, 10, 0; 0, 0, 1];  T = [1,1,1];  R = I"
   ]
  },
  {
   "cell_type": "code",
   "execution_count": 7,
   "metadata": {
    "id": "ENKNt0t__tZf"
   },
   "outputs": [
    {
     "name": "stdout",
     "output_type": "stream",
     "text": [
      "[[ 0.   -0.01  0.1 ]\n",
      " [ 0.01  0.   -0.1 ]\n",
      " [-0.1   0.1   0.  ]]\n",
      "[ 0.06 -0.07  0.1 ]\n"
     ]
    }
   ],
   "source": [
    "K = np.array([[10.0,0,0],[0,10.0,0],[0,0,1.0]])\n",
    "T = np.array([1.0,1.0,1.0])\n",
    "R = np.identity(3)\n",
    "\n",
    "#TODO: Compute F and compute line parameters\n",
    "F = np.zeros((3,3))\n",
    "T = sk(T)\n",
    "E = T @ R\n",
    "F = np.linalg.inv(K).T @ E @ np.linalg.inv(K)\n",
    "\n",
    "lineresultasarray = np.zeros((3,))\n",
    "lineresultasarray = F.dot(np.array([3.0,4.0,1.0]).T)\n",
    "print(F)\n",
    "print(lineresultasarray)\n",
    "\n",
    "# store the answer. Do not modify this\n",
    "answers['short4'] = {}\n",
    "answers['short4']['F'] = F # 2 points\n",
    "answers['short4']['epipolar'] = lineresultasarray # 2 points"
   ]
  },
  {
   "cell_type": "markdown",
   "metadata": {
    "id": "Gaewt2Bn_kn7"
   },
   "source": [
    "**5.Project the point [0,0,0] given the following intrinsic, extrinsic camera parameters:**\n",
    "\n",
    "Scale parameters = 10; \n",
    "\n",
    "Optical center = (100, 100)\n",
    "\n",
    "Rotation by 90 degrees around the z axis\n",
    "\n",
    "Translation value of [0,0, 500]"
   ]
  },
  {
   "cell_type": "code",
   "execution_count": 8,
   "metadata": {
    "id": "EJV7hwmhAicQ"
   },
   "outputs": [
    {
     "name": "stdout",
     "output_type": "stream",
     "text": [
      "[[ 0.e+00 -1.e+01  1.e+02  5.e+04]\n",
      " [ 1.e+01  0.e+00  1.e+02  5.e+04]\n",
      " [ 0.e+00  0.e+00  1.e+00  5.e+02]]\n",
      "[100. 100.]\n"
     ]
    }
   ],
   "source": [
    "p = np.array([0,0,0,1.0])\n",
    "K = np.array([[10.0, 0, 100],[0, 10.0, 100],[0,0,1]])\n",
    "\n",
    "# Compute camera model matrix M and project point to coordinates u and v\n",
    "M = np.zeros((3,4))\n",
    "pp = np.zeros((2,))\n",
    "\n",
    "extrinsic = np.array([ [0,-1.0,0,0], [1.0,0,0,0],[0,0,1.0,500.0],[0,0,0,1.0]],dtype = np.float)\n",
    "intrinsic = np.concatenate( (K,np.zeros((3,1),dtype = np.float)),axis = 1 )\n",
    "\n",
    "M = intrinsic @ extrinsic\n",
    "pp = M @ p\n",
    "pp = pp/pp[-1]\n",
    "pp = pp[0:2]\n",
    "\n",
    "print(M)\n",
    "print(pp)\n",
    "\n",
    "# store the answer. Do not modify this\n",
    "answers['short5'] = {}\n",
    "answers['short5']['M'] = M # 2 points\n",
    "answers['short5']['pp'] = pp # 2 points"
   ]
  },
  {
   "cell_type": "markdown",
   "metadata": {
    "id": "4qBr91OABops"
   },
   "source": [
    "### **Long Questions (5 pts each, 15 pts total)**"
   ]
  },
  {
   "cell_type": "markdown",
   "metadata": {
    "id": "WMOold7yB2SM"
   },
   "source": [
    "**1. Given the image L1,  compute the histogram of directions of nonzero gradients (not weighted by gradient magnitude). Use a derivative of Gaussian filter with sigma of 1.0. Your histogram should quantize to 4 quadrants -- 0 to 90, 91-180, 181-270, and 271-360. Print the histogram rounded to the nearest 100.**"
   ]
  },
  {
   "cell_type": "code",
   "execution_count": 9,
   "metadata": {
    "id": "kfmLV7DKB8hb"
   },
   "outputs": [],
   "source": [
    "L1 = cv2.cvtColor(cv2.imread('L1-B.png'), cv2.COLOR_BGR2GRAY)"
   ]
  },
  {
   "cell_type": "code",
   "execution_count": 10,
   "metadata": {
    "id": "0bfWaQHv0S_n"
   },
   "outputs": [
    {
     "name": "stdout",
     "output_type": "stream",
     "text": [
      "[11900.     0.     0.     0.]\n"
     ]
    }
   ],
   "source": [
    "from scipy.ndimage import gaussian_filter\n",
    "\n",
    "#todo: compute dir\n",
    "grad_x = gaussian_filter(L1, sigma=1, order=(0, 1))\n",
    "grad_y = gaussian_filter(L1, sigma=1, order=(1, 0))\n",
    "#grad_y = gaussian_filter(L1, sigma = [1,0], order = 1)\n",
    "#grad_x = gaussian_filter(L1, sigma = [0,1], order = 1)\n",
    "\n",
    "grad_x = np.array(grad_x , dtype = np.float)\n",
    "grad_y = np.array(grad_y , dtype = np.float)\n",
    "mag = np.sqrt(grad_x**2 + grad_y**2)\n",
    "dir = np.arctan2(grad_y, grad_x)\n",
    "\n",
    "histogram = np.zeros(4)\n",
    "histogram[0] = np.count_nonzero((dir <= np.pi/2) & (dir >= 0) & (mag > 0))\n",
    "histogram[1] = np.count_nonzero((dir <= np.pi) & (dir > np.pi/2) & (mag > 0))\n",
    "histogram[2] = np.count_nonzero((dir <= -np.pi/2) & (dir >= -np.pi) & (mag > 0))\n",
    "histogram[3] = np.count_nonzero((dir < 0) & (dir > -np.pi/2) & (mag > 0))\n",
    "print(np.round(histogram,-2))\n",
    "\n",
    "# store the answer. Do not modify this\n",
    "answers['long1'] = np.round(histogram,-2) # 5 points"
   ]
  },
  {
   "cell_type": "markdown",
   "metadata": {
    "id": "3WXgUf-7Cawf"
   },
   "source": [
    "**2. Compute SAD, SSD, and NCC of two image patches L2a and L2b**"
   ]
  },
  {
   "cell_type": "code",
   "execution_count": 11,
   "metadata": {
    "id": "1cLE8i4oCstm"
   },
   "outputs": [
    {
     "name": "stdout",
     "output_type": "stream",
     "text": [
      "SAD:  73790136\n",
      "SSD:  10037062\n",
      "NCC:  0.15\n"
     ]
    }
   ],
   "source": [
    "L2a = cv2.cvtColor(cv2.imread('L2a-B.png'), cv2.COLOR_BGR2GRAY)\n",
    "L2b = cv2.cvtColor(cv2.imread('L2b-B.png'), cv2.COLOR_BGR2GRAY)\n",
    "\n",
    "left_roi = L2a\n",
    "right_roi = L2b\n",
    "#TODO: compute SAD, SSD, and NCC\n",
    "#SAD = np.sum(np.abs(L2a - L2b))\n",
    "SAD = np.sum(np.abs(left_roi - right_roi)) \n",
    "\n",
    "#SSD = np.sum(np.square(L2a - L2b))\n",
    "SSD = np.sum( (left_roi - right_roi) * (left_roi - right_roi) )\n",
    "\n",
    "NCC = np.sum( (left_roi - right_roi) * (left_roi - right_roi) )\n",
    "NCC = NCC / ( np.sqrt( np.sum(left_roi * left_roi ) ) * np.sqrt( np.sum( right_roi * right_roi ) ) ) \n",
    "print(\"SAD: \", round(SAD, 2))\n",
    "print(\"SSD: \", round(SSD, 2))\n",
    "print(\"NCC: \", round(NCC, 2))\n",
    "\n",
    "# store the answer. Do not modify this\n",
    "answers['long2'] = {}\n",
    "answers['long2']['SAD'] = round(SAD, 2) # 2 points\n",
    "answers['long2']['SSD'] = round(SSD, 2) # 1.5 points\n",
    "answers['long2']['NCC'] = round(NCC, 2) # 1.5 points"
   ]
  },
  {
   "cell_type": "markdown",
   "metadata": {
    "id": "L3NM8sVtDAWa"
   },
   "source": [
    "**3. Given the two images L2a and L2b above, compute the direction of motion expressed as an angle in degrees rounded to the nearest 10 degrees (i.e. 0, 10, 20, 30 etc) . Use round with parameter -1, and filter both images with gaussian sigma=2 before computing gradients.**\n",
    "\n",
    "**Hint: To solve for this, recall the optical flow equation $Ad=b$, where $A$ is the $n\\times 2$ matrix of spatial gradients, $d$ is the $[u, v]$ motion between the two images, and $b$ is the difference between the two images after Gaussian filtering.**"
   ]
  },
  {
   "cell_type": "code",
   "execution_count": 12,
   "metadata": {
    "id": "6UkuZSWNEXvX"
   },
   "outputs": [
    {
     "name": "stdout",
     "output_type": "stream",
     "text": [
      "[[  1]\n",
      " [  1]\n",
      " [  1]\n",
      " ...\n",
      " [252]\n",
      " [254]\n",
      " [  0]]\n",
      "[[ 1.  -1. ]\n",
      " [ 0.5 -1. ]\n",
      " [ 0.5 -1. ]\n",
      " ...\n",
      " [ 0.   0. ]\n",
      " [ 0.5  0. ]\n",
      " [ 1.   1. ]]\n",
      "[[-33.13397001]\n",
      " [-21.40959004]]\n",
      "-150.0\n"
     ]
    }
   ],
   "source": [
    "L2a = gaussian_filter(L2a, sigma = 2, order = 0)\n",
    "L2b = gaussian_filter(L2b, sigma = 2, order = 0)\n",
    "i_y, i_x = np.gradient(L2a)\n",
    "rows , cols = L2a.shape \n",
    "i_t = L2a - L2b\n",
    "\n",
    "gx = np.resize(i_x, (rows * cols, 1))\n",
    "gy = np.resize(i_y, (rows * cols, 1))\n",
    "\n",
    "b = np.resize(i_t, (rows * cols, 1))\n",
    "A = np.concatenate((gx, gy), axis=1)\n",
    "d = np.zeros((2,1)) #TODO: compute d\n",
    "\n",
    "d =  np.linalg.inv(np.transpose(A) @ A) @ np.transpose(A) @ b\n",
    "\n",
    "print(b)\n",
    "print(A)\n",
    "print(d)\n",
    "print(np.round(np.arctan2(d[1], d[0]) * 180/np.pi, -1)[0])\n",
    "\n",
    "# store the answer. Do not modify this\n",
    "answers['long3'] = {}\n",
    "answers['long3']['b'] = np.linalg.norm(b) # 1 point\n",
    "answers['long3']['A'] = np.linalg.norm(A) # 1 point\n",
    "answers['long3']['d'] = d # 2 points\n",
    "answers['long3']['angle'] = np.round(np.arctan2(d[1], d[0]) * 180/np.pi, -1)[0] # 1 point"
   ]
  },
  {
   "cell_type": "code",
   "execution_count": 13,
   "metadata": {
    "id": "OHGNFBgTKSJT"
   },
   "outputs": [
    {
     "name": "stdout",
     "output_type": "stream",
     "text": [
      "{'short1': array([0.25 , 0.625]), 'short2': {'S1': array([ 1,  1,  2,  4, -4, -2, -1, -1]), 'S2': array([ 1,  0,  1,  2, -8,  2,  1,  0,  1])}, 'short3': 2300.0, 'short4': {'F': array([[ 0.  , -0.01,  0.1 ],\n",
      "       [ 0.01,  0.  , -0.1 ],\n",
      "       [-0.1 ,  0.1 ,  0.  ]]), 'epipolar': array([ 0.06, -0.07,  0.1 ])}, 'short5': {'M': array([[ 0.e+00, -1.e+01,  1.e+02,  5.e+04],\n",
      "       [ 1.e+01,  0.e+00,  1.e+02,  5.e+04],\n",
      "       [ 0.e+00,  0.e+00,  1.e+00,  5.e+02]]), 'pp': array([100., 100.])}, 'long1': array([11900.,     0.,     0.,     0.]), 'long2': {'SAD': 73790136, 'SSD': 10037062, 'NCC': 0.15}, 'long3': {'b': 131100.84467309888, 'A': 2021.9297094607418, 'd': array([[-33.13397001],\n",
      "       [-21.40959004]]), 'angle': -150.0}}\n"
     ]
    }
   ],
   "source": [
    "# save your answers to answers.pkl. Please submit answers.pkl along with your notebook. If you don't see answers.pkl saved immediately, please wait for a while and try multiple times\n",
    "pickle.dump(answers,open('answers.pkl', 'wb'))\n",
    "print(answers)"
   ]
  }
 ],
 "metadata": {
  "colab": {
   "collapsed_sections": [],
   "name": "CV-2020-Midterm-Exam.ipynb",
   "provenance": [],
   "toc_visible": true
  },
  "kernelspec": {
   "display_name": "Python 3",
   "language": "python",
   "name": "python3"
  },
  "language_info": {
   "codemirror_mode": {
    "name": "ipython",
    "version": 3
   },
   "file_extension": ".py",
   "mimetype": "text/x-python",
   "name": "python",
   "nbconvert_exporter": "python",
   "pygments_lexer": "ipython3",
   "version": "3.8.3"
  }
 },
 "nbformat": 4,
 "nbformat_minor": 1
}
