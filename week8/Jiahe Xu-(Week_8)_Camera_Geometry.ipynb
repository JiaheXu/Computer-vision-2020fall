{
 "cells": [
  {
   "cell_type": "code",
   "execution_count": 1,
   "metadata": {
    "id": "XZBLjVlNlgox"
   },
   "outputs": [],
   "source": [
    "%matplotlib inline\n",
    "import matplotlib.pyplot as plt\n",
    "import numpy as np\n",
    "import cv2\n",
    "from scipy import signal"
   ]
  },
  {
   "cell_type": "markdown",
   "metadata": {
    "id": "TgFDOQD0mxL2"
   },
   "source": [
    "### Read this First\n",
    "\n",
    "#### Remember that `tab` is is useful for autocompletion.\n",
    "\n",
    "#### Remember that `shift + tab` is useful for rapidly obtaining usage + documentation."
   ]
  },
  {
   "cell_type": "markdown",
   "metadata": {
    "id": "kgqGhZUDmz5y"
   },
   "source": [
    "###**3D Camera Geometry**"
   ]
  },
  {
   "cell_type": "markdown",
   "metadata": {
    "id": "mnsOTCvam3dI"
   },
   "source": [
    "**In class we covered material for single and multi-camera systems. This notebook will help ground some of these geometric concepts.**\n",
    "\n",
    "**First, we'll define some of the components helpful for for camera geometry**"
   ]
  },
  {
   "cell_type": "code",
   "execution_count": 2,
   "metadata": {
    "id": "XM5v1tZzq_7l"
   },
   "outputs": [],
   "source": [
    "def rotatex(t) :\n",
    "  \"\"\" Creates a 3D rotation matrix representing a rotation about the x-axis by t radians \"\"\"\n",
    "  return np.array([[1,0,0],[0,np.cos(t),-np.sin(t)],[0,np.sin(t),np.cos(t)]])\n",
    "\n",
    "def rotatey(t) :\n",
    "  \"\"\" Creates a 3D rotation matrix representing a rotation about the y-axis by t radians \"\"\"\n",
    "  return np.array([[np.cos(t),0,np.sin(t)],[0,1,0],[-np.sin(t),0,np.cos(t)]])\n",
    "\n",
    "def rotatez(t) :\n",
    "  \"\"\" Creates a 3D rotation matrix representing a rotation about the z-axis by t radians \"\"\"\n",
    "  return [[np.cos(t),-np.sin(t),0],[np.sin(t),np.cos(t),0],[0,0,1]]\n",
    "\n",
    "def rotate2D(t) :\n",
    "  \"\"\" Creates a 2D rotation matrix representing a rotation by t radians \"\"\"\n",
    "  return [[np.cos(t),-np.sin(t)],[np.sin(t),np.cos(t)]]\n",
    "\n",
    "def trans(x,y,z) :\n",
    "  \"\"\" Creates a 3D translation vector of shape 3x1 \"\"\"\n",
    "  return np.array([[x,y,z]]).T\n",
    "\n",
    "def pointh(x,y,z) :\n",
    "  \"\"\" Creates a 3D point in homogeneous coordinates \"\"\"\n",
    "  return np.array([[x,y,z,1]].T)\n",
    "\n",
    "def htrans(R,t) :\n",
    "  \"\"\" Creates a 3D homogeneous transformation matrix \"\"\"\n",
    "  return np.concatenate((np.concatenate((R,t),axis=1),np.array([[0,0,0,1]])))"
   ]
  },
  {
   "cell_type": "markdown",
   "metadata": {
    "id": "9BgcMwI-jrGj"
   },
   "source": [
    "**Now, we'll define some components for camera internal geometry**"
   ]
  },
  {
   "cell_type": "code",
   "execution_count": 3,
   "metadata": {
    "id": "difUAAAk6Avj"
   },
   "outputs": [],
   "source": [
    "def Kmatrix(sx,sy,ox,oy) :\n",
    "  \"\"\" Creates the matrix K that represents the calibration matrix \"\"\"\n",
    "  return np.array([[sx,0,ox],[0,sy,oy],[0,0,1]])\n",
    "\n",
    "def Mmatrix(K) :\n",
    "  \"\"\" Creates the matrix M that represents the intrinsic matrix \"\"\"\n",
    "  return np.concatenate((K, np.array([[0,0,0]]).T),axis=1)"
   ]
  },
  {
   "cell_type": "markdown",
   "metadata": {
    "id": "u_03oZyujrGm"
   },
   "source": [
    "**Now, write a function that, given a intrinsic matrix M and a extrinsic matrix H, computes the projection matrix P.** "
   ]
  },
  {
   "cell_type": "code",
   "execution_count": 4,
   "metadata": {
    "id": "fgW6r4yRjrGn"
   },
   "outputs": [],
   "source": [
    "def Pmatrix(M, H):\n",
    "  \"\"\" Creates a 3x4 projection matrix P that relates world coordinates to pixel coordinates\n",
    "      Args:\n",
    "        M: 3x4 matrix representing the intrinsic parameters of the camera\n",
    "        H: 4x4 matrix representing the extrinsic parameters of the camera\n",
    "      Return:\n",
    "        P: 3x4 matrix relating world coordinates to pixel coordinates\n",
    "  \"\"\"\n",
    "  P = M @ H\n",
    "\n",
    "  return P"
   ]
  },
  {
   "cell_type": "markdown",
   "metadata": {
    "id": "bcPPA9g2pO3x"
   },
   "source": [
    "**Now, let's make some real world points to project.  Since this is a camera, we'll make the z axis larger than x and y**"
   ]
  },
  {
   "cell_type": "code",
   "execution_count": 5,
   "metadata": {
    "id": "zLV-RSixjrGs"
   },
   "outputs": [
    {
     "data": {
      "text/plain": [
       "<mpl_toolkits.mplot3d.art3d.Path3DCollection at 0x19558c45df0>"
      ]
     },
     "execution_count": 5,
     "metadata": {},
     "output_type": "execute_result"
    },
    {
     "data": {
      "image/png": "[encoded data removed]",
      "text/plain": [
       "<Figure size 432x288 with 1 Axes>"
      ]
     },
     "metadata": {
      "needs_background": "light"
     },
     "output_type": "display_data"
    }
   ],
   "source": [
    "# Make 20 random 3D points stacked horizontally \n",
    "pts = np.concatenate((np.random.random([3,20]),np.ones([1,20])),axis=0)\n",
    "pts[0:2,:] = (pts[0:2,:] - 0.5) * 100\n",
    "pts[2,:] = (pts[2,:] - 0.5) * 100 + 1000\n",
    "\n",
    "# Plot these points\n",
    "fig = plt.figure()\n",
    "ax = fig.add_subplot(111, projection='3d')\n",
    "plt.scatter(pts[0],pts[1],zs=pts[2],s=5)\n"
   ]
  },
  {
   "cell_type": "markdown",
   "metadata": {
    "id": "V4jHqcJKtVkb"
   },
   "source": [
    "**Create an K matrix with parameters $s_x=s_y=1000$, $o_x=52.2$, $o_y=55.3$. Create a H matrix with identity rotation and a translation $(x, y, z)=(42, 33, 1000)$. Then, using those, create the P matrix and print the resulting matrix.**"
   ]
  },
  {
   "cell_type": "code",
   "execution_count": 6,
   "metadata": {
    "id": "Tr-xvJ7buoOT"
   },
   "outputs": [
    {
     "name": "stdout",
     "output_type": "stream",
     "text": [
      "[[1.00e+03 0.00e+00 5.22e+01 9.42e+04]\n",
      " [0.00e+00 1.00e+03 5.53e+01 8.83e+04]\n",
      " [0.00e+00 0.00e+00 1.00e+00 1.00e+03]]\n"
     ]
    }
   ],
   "source": [
    "K = [ [1000 , 0 , 52.2 ] , [0 , 1000 , 55.3 ] , [0 , 0 , 1 ] ]\n",
    "K = np.array(K , dtype = np.float)\n",
    "H = [ [1 , 0 , 0 , 42] , [0 , 1 , 0 , 33] , [0 , 0 , 1 , 1000] , [0 , 0 , 0 , 1] ]\n",
    "H = np.array(H , dtype = np.float)\n",
    "P = Pmatrix( Mmatrix(K) , H)\n",
    "print(P)"
   ]
  },
  {
   "cell_type": "markdown",
   "metadata": {
    "id": "bwu3dh1N0sEA"
   },
   "source": [
    "**Transform our real world points pts using this projection matrix and store the resulting pixel coordinates into pix_pts. Remember that the results are in homogeneous coordinates so when we plot it we have to ensure that $w=1$ for hoomogeneous coordinate $(u, v, w)$**"
   ]
  },
  {
   "cell_type": "code",
   "execution_count": 7,
   "metadata": {
    "id": "1kUEbvxavTQD"
   },
   "outputs": [
    {
     "name": "stdout",
     "output_type": "stream",
     "text": [
      "[[82.60147442 71.81108326 71.33753539 92.65928602 54.08832108 88.32795575\n",
      "  59.55812916 61.2234923  72.41209004 52.15236344 68.73378789 66.85276723\n",
      "  88.42034208 48.26108196 83.41172343 78.47245524 97.11817156 89.25224432\n",
      "  96.89020483 78.13744316]\n",
      " [48.83576475 70.18076522 47.81064095 47.97021193 69.28804959 66.1980886\n",
      "  95.49541245 59.61434589 95.82167033 78.41781389 73.76395721 60.3216732\n",
      "  58.61496323 69.17717444 48.01833454 69.70164207 78.76500237 82.81709482\n",
      "  81.28960669 93.20193873]\n",
      " [ 1.          1.          1.          1.          1.          1.\n",
      "   1.          1.          1.          1.          1.          1.\n",
      "   1.          1.          1.          1.          1.          1.\n",
      "   1.          1.        ]]\n"
     ]
    },
    {
     "data": {
      "image/png": "[encoded data removed]",
      "text/plain": [
       "<Figure size 432x288 with 1 Axes>"
      ]
     },
     "metadata": {
      "needs_background": "light"
     },
     "output_type": "display_data"
    },
    {
     "data": {
      "image/png": "[encoded data removed]",
      "text/plain": [
       "<Figure size 432x288 with 1 Axes>"
      ]
     },
     "metadata": {
      "needs_background": "light"
     },
     "output_type": "display_data"
    }
   ],
   "source": [
    "pix_pts = np.zeros((3, 20))\n",
    "for i in range(pts.shape[1]):\n",
    "    pix_pts[: , i] = P @ pts[: , i]\n",
    "    pix_pts[: , i] = pix_pts[: , i] / pix_pts[ 2 , i] \n",
    "# Plot these points\n",
    "print(pix_pts )\n",
    "fig = plt.figure()\n",
    "plt.scatter(pix_pts[0], pix_pts[1], s=5)\n",
    "plt.gca()\n",
    "plt.show()\n",
    "\n",
    "\n",
    "fig = plt.figure()\n",
    "plt.scatter(pix_pts[0], pix_pts[1], s=5)\n",
    "plt.gca().invert_yaxis()\n",
    "plt.show()"
   ]
  },
  {
   "cell_type": "markdown",
   "metadata": {
    "id": "LldzxXYp1A0d"
   },
   "source": [
    "**Why did I invert the y axis here?**"
   ]
  },
  {
   "cell_type": "markdown",
   "metadata": {
    "id": "XRnX-02R1Cw7"
   },
   "source": [
    "because in pixel coordinate, origin is on the upper-left corner"
   ]
  },
  {
   "cell_type": "markdown",
   "metadata": {
    "id": "w5N9JsC_1DIV"
   },
   "source": [
    "**Now we want to compare this with the plot of pts above to see how similar our camera view with the real world. Plot pts as before using scatter, but now adjust viewpoint of the plot to have elevation as $-90$ and azimuth as $-90$.**"
   ]
  },
  {
   "cell_type": "code",
   "execution_count": 8,
   "metadata": {
    "id": "BRKx6lCHwPRL"
   },
   "outputs": [
    {
     "data": {
      "text/plain": [
       "<mpl_toolkits.mplot3d.art3d.Path3DCollection at 0x19558dc1af0>"
      ]
     },
     "execution_count": 8,
     "metadata": {},
     "output_type": "execute_result"
    },
    {
     "data": {
      "image/png": "[encoded data removed]",
      "text/plain": [
       "<Figure size 432x288 with 1 Axes>"
      ]
     },
     "metadata": {
      "needs_background": "light"
     },
     "output_type": "display_data"
    }
   ],
   "source": [
    "# Plot pts again but with a different viewpoint\n",
    "from mpl_toolkits.mplot3d import Axes3D\n",
    "\n",
    "fig = plt.figure()\n",
    "ax = fig.add_subplot(111, projection='3d')\n",
    "ax.view_init(elev = -90,    # 仰角\n",
    "             azim = -90    # 方位角\n",
    "            )\n",
    "\n",
    "plt.scatter(pts[0],pts[1],zs=pts[2],s=5)"
   ]
  },
  {
   "cell_type": "markdown",
   "metadata": {
    "id": "YTeEyCZ51lrS"
   },
   "source": [
    "**Which directions are the x, y, and z axes? (i.e. which is the vertical/horizontal/in or out of plane axis? Which direction is the positive direction for each?)**"
   ]
  },
  {
   "cell_type": "markdown",
   "metadata": {
    "id": "IoipQBW01ykt"
   },
   "source": [
    "x axes:horizontal ,direction: from left to right\n",
    "y axes:vertical  ,direction: from up to down\n",
    "z axes: in or out of plane axis, direction : away from viewer(I don't know the proper way to describe it, hope you know what I mean)"
   ]
  },
  {
   "cell_type": "markdown",
   "metadata": {
    "id": "bM2T0uuh1y3N"
   },
   "source": [
    "**Do your camera points look the same as the real world points? (They should)**"
   ]
  },
  {
   "cell_type": "markdown",
   "metadata": {
    "id": "fbvXpZPV2SKz"
   },
   "source": [
    "Yes"
   ]
  },
  {
   "cell_type": "markdown",
   "metadata": {
    "id": "hEj5UVwO14vX"
   },
   "source": [
    "**Now, change the parameters such that $o_x=0$, recompute the projection matrix, reproject the real world points to the pixel coordinates and plot it as before.**"
   ]
  },
  {
   "cell_type": "code",
   "execution_count": 9,
   "metadata": {
    "id": "JTmj1soR2Ryf"
   },
   "outputs": [
    {
     "name": "stdout",
     "output_type": "stream",
     "text": [
      "[[1.00e+03 0.00e+00 0.00e+00 4.20e+04]\n",
      " [0.00e+00 1.00e+03 5.53e+01 8.83e+04]\n",
      " [0.00e+00 0.00e+00 1.00e+00 1.00e+03]]\n"
     ]
    },
    {
     "data": {
      "image/png": "[encoded data removed]",
      "text/plain": [
       "<Figure size 432x288 with 1 Axes>"
      ]
     },
     "metadata": {
      "needs_background": "light"
     },
     "output_type": "display_data"
    }
   ],
   "source": [
    "K = [ [1000 , 0 , 0 ] , [0 , 1000 , 55.3 ] , [0 , 0 , 1 ] ]\n",
    "K = np.array(K , dtype = np.float)\n",
    "H = [ [1 , 0 , 0 , 42] , [0 , 1 , 0 , 33] , [0 , 0 , 1 , 1000] , [0 , 0 , 0 , 1] ]\n",
    "H = np.array(H , dtype = np.float)\n",
    "P = Pmatrix( Mmatrix(K) , H)\n",
    "print(P)\n",
    "\n",
    "pix_pts = np.zeros((3, 20))\n",
    "for i in range(pts.shape[1]):\n",
    "    pix_pts[: , i] = P @ pts[: , i]\n",
    "    pix_pts[: , i] = pix_pts[: , i] / pix_pts[ 2 , i] \n",
    "# Plot these points\n",
    "fig = plt.figure()\n",
    "plt.scatter(pix_pts[0], pix_pts[1], s=5)\n",
    "plt.gca().invert_yaxis()\n",
    "plt.show()"
   ]
  },
  {
   "cell_type": "markdown",
   "metadata": {
    "id": "hyfA3rPk3AA0"
   },
   "source": [
    "**What changed between this and the previous plot you made? What does the parameter $o_x$ represent?**"
   ]
  },
  {
   "cell_type": "markdown",
   "metadata": {
    "id": "vvea9MWd3NMm"
   },
   "source": [
    "the position in X direction is changed\n",
    "ox represent the position of image center in X direction"
   ]
  },
  {
   "cell_type": "markdown",
   "metadata": {
    "id": "ZOPBS_3-3OS-"
   },
   "source": [
    "**Now change $s_y=400$ and do the same thing. Keep $o_x=0$ so you can compare without scrolling too far.**"
   ]
  },
  {
   "cell_type": "code",
   "execution_count": 10,
   "metadata": {
    "id": "kWh4IVzJ3Nhi"
   },
   "outputs": [
    {
     "name": "stdout",
     "output_type": "stream",
     "text": [
      "[[1.00e+03 0.00e+00 0.00e+00 4.20e+04]\n",
      " [0.00e+00 4.00e+02 5.53e+01 6.85e+04]\n",
      " [0.00e+00 0.00e+00 1.00e+00 1.00e+03]]\n"
     ]
    },
    {
     "data": {
      "image/png": "[encoded data removed]",
      "text/plain": [
       "<Figure size 432x288 with 1 Axes>"
      ]
     },
     "metadata": {
      "needs_background": "light"
     },
     "output_type": "display_data"
    }
   ],
   "source": [
    "K = [ [1000 , 0 , 0 ] , [0 , 400 , 55.3 ] , [0 , 0 , 1 ] ]\n",
    "K = np.array(K , dtype = np.float)\n",
    "H = [ [1 , 0 , 0 , 42] , [0 , 1 , 0 , 33] , [0 , 0 , 1 , 1000] , [0 , 0 , 0 , 1] ]\n",
    "H = np.array(H , dtype = np.float)\n",
    "P = Pmatrix( Mmatrix(K) , H)\n",
    "print(P)\n",
    "\n",
    "pix_pts = np.zeros((3, 20))\n",
    "for i in range(pts.shape[1]):\n",
    "    pix_pts[: , i] = P @ pts[: , i]\n",
    "    pix_pts[: , i] = pix_pts[: , i] / pix_pts[ 2 , i] \n",
    "# Plot these points\n",
    "fig = plt.figure()\n",
    "plt.scatter(pix_pts[0], pix_pts[1], s=5)\n",
    "plt.gca().invert_yaxis()\n",
    "plt.show()"
   ]
  },
  {
   "cell_type": "markdown",
   "metadata": {
    "id": "6pCR6k0y3sFZ"
   },
   "source": [
    "**What changed between this and the previous plot you made? What does the parameter $s_y$ represent?**"
   ]
  },
  {
   "cell_type": "markdown",
   "metadata": {
    "id": "9Nrn9sj63twD"
   },
   "source": [
    "the positions in Y direction are changed\n",
    "sy represent the scale of camera coordinate position changes in camera pixel coordinate "
   ]
  },
  {
   "cell_type": "markdown",
   "metadata": {
    "id": "sEHIKzrR3uB2"
   },
   "source": [
    "**Now let's try and recover the projection matrix. We've already covered this in the Week 6 Python Notebook, so it should be relatively straightforward. Using the real world coordinates pts and the pixel coordinates obtained when we set $s_y=400$ and $o_x=0$ above, create the $A$ matrix in $Ap=0$ that was covered in class to solve for the projection matrix.**"
   ]
  },
  {
   "cell_type": "code",
   "execution_count": 11,
   "metadata": {
    "id": "zLL0NnJS86w4"
   },
   "outputs": [
    {
     "name": "stdout",
     "output_type": "stream",
     "text": [
      "(20, 4)\n",
      "(20, 3)\n"
     ]
    }
   ],
   "source": [
    "A = np.zeros((2 * 20, 12))\n",
    "\n",
    "data_num = 20\n",
    "b = np.zeros((data_num*2, 1))\n",
    "\n",
    "source = np.array(pts.copy())\n",
    "source = source.T\n",
    "\n",
    "target = np.array(pix_pts.copy())\n",
    "target = target.T\n",
    "\n",
    "#print(source)\n",
    "#print(target)\n",
    "for i in range(data_num):\n",
    "    base = np.array([source[i][0], source[i][1], source[i][2], 1])\n",
    "    A[2 * i, 0:4] = base\n",
    "    A[2 * i + 1, 4:8] = base\n",
    "    A[2 * i, 8:12] = -target[i][0] * base\n",
    "    A[2 * i + 1, 8:12] = -target[i][1] * base\n",
    "print(source.shape)\n",
    "print(target.shape)"
   ]
  },
  {
   "cell_type": "markdown",
   "metadata": {
    "id": "MkcL-NWr9jQ6"
   },
   "source": [
    "**Compute the projection matrix P by solving for $Ap=0$, and print it. Compare it with the projection matrix computed above to confirm that they are identical.**"
   ]
  },
  {
   "cell_type": "code",
   "execution_count": 12,
   "metadata": {
    "id": "QxnJFVIZ2s0K"
   },
   "outputs": [
    {
     "name": "stdout",
     "output_type": "stream",
     "text": [
      "[[ 1.00000000e+03  6.34565213e-12  5.70727872e-11  4.20000000e+04]\n",
      " [ 1.13375983e-11  4.00000000e+02  5.53000000e+01  6.85000000e+04]\n",
      " [-5.21594406e-12 -4.54915867e-13  1.00000000e+00  1.00000000e+03]]\n",
      "[[1.00e+03 0.00e+00 0.00e+00 4.20e+04]\n",
      " [0.00e+00 4.00e+02 5.53e+01 6.85e+04]\n",
      " [0.00e+00 0.00e+00 1.00e+00 1.00e+03]]\n"
     ]
    }
   ],
   "source": [
    "u, s, vh = np.linalg.svd(A, full_matrices=True)\n",
    "t = vh[-1, :] / vh[-1, -1]\n",
    "p = t.reshape(3, 4)\n",
    "norm = np.linalg.norm(p[2, 0:3])\n",
    "p = p / norm\n",
    "print(p)\n",
    "\n",
    "norm = np.linalg.norm(P[2, 0:3])\n",
    "P = P / norm\n",
    "print(P)"
   ]
  },
  {
   "cell_type": "markdown",
   "metadata": {
    "id": "CyWt2Cz290Xb"
   },
   "source": [
    "**Recover the K and R matrices, and then the translation vector t using RQ factorization, and print them to make sure they are consistent with the parameters that you provided to create the projection matrix.**"
   ]
  },
  {
   "cell_type": "code",
   "execution_count": 13,
   "metadata": {
    "id": "LnxnKxgu2s3i"
   },
   "outputs": [
    {
     "name": "stdout",
     "output_type": "stream",
     "text": [
      "[[ 1.00000000e+03  7.55793915e-10 -5.15887127e-09]\n",
      " [ 0.00000000e+00  4.00000000e+02  5.53000000e+01]\n",
      " [ 0.00000000e+00  0.00000000e+00  1.00000000e+00]]\n",
      "[[ 1.00000000e+00 -7.49448262e-13  5.21594406e-12]\n",
      " [ 7.49448262e-13  1.00000000e+00  4.54915867e-13]\n",
      " [-5.21594406e-12 -4.54915867e-13  1.00000000e+00]]\n"
     ]
    }
   ],
   "source": [
    "A = p[: , 0:3].copy()\n",
    "cx = A[2, 2] / np.sqrt(A[2, 1] ** 2 + A[2, 2] ** 2)\n",
    "sx = A[2, 1] / np.sqrt(A[2, 1] ** 2 + A[2, 2] ** 2)\n",
    "Rx = np.array([[1, 0, 0], [0, cx, sx], [0, -sx, cx]])\n",
    "A = np.matmul(A, Rx)\n",
    "\n",
    "cy = A[2, 2] / np.sqrt(A[2, 0] ** 2 + A[2, 2] ** 2)\n",
    "sy = -A[2, 0] / np.sqrt(A[2, 0] ** 2 + A[2, 2] ** 2)\n",
    "Ry = np.array([[cy, 0, -sy], [0, 1, 0], [sy, 0, cy]])\n",
    "A = np.matmul(A, Ry)\n",
    "\n",
    "cz = A[1, 1] / np.sqrt(A[1, 0] ** 2 + A[1, 1] ** 2)\n",
    "sz = A[1, 0] / np.sqrt(A[1, 0] ** 2 + A[1, 1] ** 2)\n",
    "Rz = np.array([[cz, sz, 0], [-sz, cz, 0], [0, 0, 1]])\n",
    "K = np.matmul(A, Rz)\n",
    "R = np.transpose(Rz) @ np.transpose(Ry) @ np.transpose(Rx)\n",
    "\n",
    "print(K)\n",
    "print(R)"
   ]
  },
  {
   "cell_type": "markdown",
   "metadata": {
    "id": "bDvLpXd5-y7j"
   },
   "source": [
    "**Now pick your own parameters for the intrinsic and extrinsic matrices, project pts, and then recover the projection matrix P. Double check that you're able to recover the matrix.**"
   ]
  },
  {
   "cell_type": "code",
   "execution_count": 14,
   "metadata": {
    "id": "KAr5xBFi2suZ"
   },
   "outputs": [
    {
     "name": "stdout",
     "output_type": "stream",
     "text": [
      "[[5.50e+02 0.00e+00 3.40e+01 5.71e+04]\n",
      " [0.00e+00 3.00e+02 5.53e+01 6.52e+04]\n",
      " [0.00e+00 0.00e+00 1.00e+00 1.00e+03]]\n"
     ]
    },
    {
     "data": {
      "image/png": "[encoded data removed]",
      "text/plain": [
       "<Figure size 432x288 with 1 Axes>"
      ]
     },
     "metadata": {
      "needs_background": "light"
     },
     "output_type": "display_data"
    },
    {
     "name": "stdout",
     "output_type": "stream",
     "text": [
      "(20, 4)\n",
      "(20, 3)\n",
      "[[ 5.50000000e+02 -1.33529020e-10  3.40000000e+01  5.71000000e+04]\n",
      " [ 1.55130095e-11  3.00000000e+02  5.53000000e+01  6.52000000e+04]\n",
      " [-1.17508363e-12 -2.99042322e-12  1.00000000e+00  1.00000000e+03]]\n",
      "[[5.50e+02 0.00e+00 3.40e+01 5.71e+04]\n",
      " [0.00e+00 3.00e+02 5.53e+01 6.52e+04]\n",
      " [0.00e+00 0.00e+00 1.00e+00 1.00e+03]]\n"
     ]
    }
   ],
   "source": [
    "K = [ [550 , 0 , 34 ] , [0 , 300 , 55.3 ] , [0 , 0 , 1 ] ]\n",
    "K = np.array(K , dtype = np.float)\n",
    "H = [ [1 , 0 , 0 , 42] , [0 , 1 , 0 , 33] , [0 , 0 , 1 , 1000] , [0 , 0 , 0 , 1] ]\n",
    "H = np.array(H , dtype = np.float)\n",
    "P = Pmatrix( Mmatrix(K) , H)\n",
    "print(P)\n",
    "\n",
    "pix_pts = np.zeros((3, 20))\n",
    "for i in range(pts.shape[1]):\n",
    "    pix_pts[: , i] = P @ pts[: , i]\n",
    "    pix_pts[: , i] = pix_pts[: , i] / pix_pts[ 2 , i] \n",
    "# Plot these points\n",
    "fig = plt.figure()\n",
    "plt.scatter(pix_pts[0], pix_pts[1], s=5)\n",
    "plt.gca().invert_yaxis()\n",
    "plt.show()\n",
    "\n",
    "A = np.zeros((2 * 20, 12))\n",
    "\n",
    "data_num = 20\n",
    "b = np.zeros((data_num*2, 1))\n",
    "\n",
    "source = np.array(pts.copy())\n",
    "source = source.T\n",
    "\n",
    "target = np.array(pix_pts.copy())\n",
    "target = target.T\n",
    "\n",
    "#print(source)\n",
    "#print(target)\n",
    "for i in range(data_num):\n",
    "    base = np.array([source[i][0], source[i][1], source[i][2], 1])\n",
    "    A[2 * i, 0:4] = base\n",
    "    A[2 * i + 1, 4:8] = base\n",
    "    A[2 * i, 8:12] = -target[i][0] * base\n",
    "    A[2 * i + 1, 8:12] = -target[i][1] * base\n",
    "print(source.shape)\n",
    "print(target.shape)\n",
    "\n",
    "u, s, vh = np.linalg.svd(A, full_matrices=True)\n",
    "t = vh[-1, :] / vh[-1, -1]\n",
    "p = t.reshape(3, 4)\n",
    "norm = np.linalg.norm(p[2, 0:3])\n",
    "p = p / norm\n",
    "print(p)\n",
    "\n",
    "norm = np.linalg.norm(P[2, 0:3])\n",
    "P = P / norm\n",
    "print(P)"
   ]
  },
  {
   "cell_type": "markdown",
   "metadata": {
    "id": "zYmdlls5_AcF"
   },
   "source": [
    "###**Uncalibrated stereo**"
   ]
  },
  {
   "cell_type": "markdown",
   "metadata": {
    "id": "lMn8ygXotcwZ"
   },
   "source": [
    "**Now that we're more confident with single camera geometry, let's try relate the geometries and the viewpoints of two cameras. The goal of this is to be able to find a relationship between the location of an object in one camera view and the location of the object in the other camera view.**"
   ]
  },
  {
   "cell_type": "markdown",
   "metadata": {
    "id": "2nCvYbKnti5r"
   },
   "source": [
    "**Here, let's create 20 random points again** "
   ]
  },
  {
   "cell_type": "code",
   "execution_count": 15,
   "metadata": {
    "id": "qtHva4McD_i1"
   },
   "outputs": [],
   "source": [
    "# Make 20 random 3D points stacked horizontally \n",
    "npoints = 20\n",
    "pts = np.concatenate((np.random.random([3, npoints]),np.ones([1, npoints])),axis=0)\n",
    "pts[0:2,:] = (pts[0:2,:] - 0.5) * 100\n",
    "pts[2,:] = (pts[2,:] - 0.5) * 100 + 1000\n",
    "colors = plt.cm.rainbow(np.linspace(0, 1, npoints))"
   ]
  },
  {
   "cell_type": "markdown",
   "metadata": {
    "id": "Kp-0lzB3uEK6"
   },
   "source": [
    "**We also plot these points, is a couple of different views that will make more sense that the default view.**"
   ]
  },
  {
   "cell_type": "code",
   "execution_count": 16,
   "metadata": {
    "id": "tCVSJjSDJEwx"
   },
   "outputs": [
    {
     "data": {
      "image/png": "[encoded data removed]",
      "text/plain": [
       "<Figure size 3456x576 with 2 Axes>"
      ]
     },
     "metadata": {
      "needs_background": "light"
     },
     "output_type": "display_data"
    }
   ],
   "source": [
    "# Plot these points\n",
    "fig = plt.figure(figsize=(48, 8))\n",
    "ax = fig.add_subplot(131, projection='3d')\n",
    "plt.scatter(pts[0],pts[1],zs=pts[2],s=21, c=colors)\n",
    "ax.view_init(elev=-70, azim=-90)\n",
    "\n",
    "ax2 = fig.add_subplot(132, projection='3d')\n",
    "plt.scatter(pts[0],pts[1],zs=pts[2],s=21, c=colors)\n",
    "ax2.view_init(elev=-30, azim=-90)"
   ]
  },
  {
   "cell_type": "markdown",
   "metadata": {
    "id": "g3DB6EtMuLi8"
   },
   "source": [
    "**Now we want to simulate two cameras. For camera 1, create a projection matrix with parameters $s_x=s_y=1000$, $o_x=35$, $o_y=55.3$, with a y-axis rotation by -0.3 radians, and a translation vector of $[280, 33, 1000]$.** \n",
    "\n",
    "**Project the real world pts above into the view of this camera, and plot these pixel coordinates with the same colours as above corresponding to each point (set c=colors) and remember to invert the y-axis.**"
   ]
  },
  {
   "cell_type": "code",
   "execution_count": 17,
   "metadata": {
    "id": "9396tWlYFb_N"
   },
   "outputs": [
    {
     "name": "stdout",
     "output_type": "stream",
     "text": [
      "[[ 9.65679696e+02  0.00000000e+00 -2.62083430e+02  3.15000000e+05]\n",
      " [ 1.63422674e+01  1.00000000e+03  5.28301078e+01  8.83000000e+04]\n",
      " [ 2.95520207e-01  0.00000000e+00  9.55336489e-01  1.00000000e+03]]\n"
     ]
    },
    {
     "data": {
      "image/png": "[encoded data removed]",
      "text/plain": [
       "<Figure size 432x288 with 1 Axes>"
      ]
     },
     "metadata": {
      "needs_background": "light"
     },
     "output_type": "display_data"
    }
   ],
   "source": [
    "Kl = [ [1000 , 0 , 35 ] , [0 , 1000 , 55.3 ] , [0 , 0 , 1 ] ]\n",
    "Kl = np.array(Kl , dtype = np.float)\n",
    "p1 = -0.3\n",
    "Hl = [ [ np.cos(p1) , 0 , np.sin(p1) , 280] , [0 , 1 , 0 , 33] , [-np.sin(p1) , 0 , np.cos(p1) , 1000] , [0 , 0 , 0 , 1] ]\n",
    "Hl = np.array(Hl , dtype = np.float)\n",
    "P1 = Pmatrix( Mmatrix(Kl) , Hl)\n",
    "print(P1)\n",
    "pix_pts1 = np.zeros((3, 20))\n",
    "for i in range(pts.shape[1]):\n",
    "    pix_pts1[: , i] = P1 @ pts[: , i]\n",
    "    pix_pts1[: , i] = pix_pts1[: , i] / pix_pts1[ 2 , i]\n",
    "fig = plt.figure()\n",
    "plt.scatter(pix_pts1[0], pix_pts1[1], s=5 , c=colors)\n",
    "plt.gca().invert_yaxis()\n",
    "plt.show()"
   ]
  },
  {
   "cell_type": "markdown",
   "metadata": {
    "id": "ZlIe1WaKuzzc"
   },
   "source": [
    "**Now simulate camera 2, by creating a projection matrix with parameters $s_x=s_y=1000$, $o_x=35$, $o_y=55.3$, with a y-axis rotation by 0.3 radians, and a translation vector of $[390, 33, 1000]$.** \n",
    "\n",
    "**Project the real world pts above into the view of this camera, and plot these pixel coordinates with the same colours as above corresponding to each point (set c=colors) and remember to invert the y-axis.**"
   ]
  },
  {
   "cell_type": "code",
   "execution_count": 18,
   "metadata": {
    "id": "ecQkIIQLF0fT"
   },
   "outputs": [
    {
     "name": "stdout",
     "output_type": "stream",
     "text": [
      "[[ 9.44993282e+02  0.00000000e+00  3.28956984e+02  4.25000000e+05]\n",
      " [-1.63422674e+01  1.00000000e+03  5.28301078e+01  8.83000000e+04]\n",
      " [-2.95520207e-01  0.00000000e+00  9.55336489e-01  1.00000000e+03]]\n"
     ]
    },
    {
     "data": {
      "image/png": "[encoded data removed]",
      "text/plain": [
       "<Figure size 432x288 with 1 Axes>"
      ]
     },
     "metadata": {
      "needs_background": "light"
     },
     "output_type": "display_data"
    }
   ],
   "source": [
    "Kr = [ [1000 , 0 , 35 ] , [0 , 1000 , 55.3 ] , [0 , 0 , 1 ] ]\n",
    "Kr = np.array(Kr , dtype = np.float)\n",
    "p2 = 0.3\n",
    "Hr = [ [ np.cos(p2) , 0 , np.sin(p2) , 390] , [0 , 1 , 0 , 33] , [-np.sin(p2) , 0 , np.cos(p2) , 1000] , [0 , 0 , 0 , 1] ]\n",
    "Hr = np.array(Hr , dtype = np.float)\n",
    "P2 = Pmatrix( Mmatrix(Kr) , Hr)\n",
    "print(P2)\n",
    "pix_pts2 = np.zeros((3, 20))\n",
    "for i in range(pts.shape[1]):\n",
    "    pix_pts2[: , i] = P2 @ pts[: , i]\n",
    "    pix_pts2[: , i] = pix_pts2[: , i] / pix_pts2[ 2 , i]\n",
    "fig = plt.figure()\n",
    "plt.scatter(pix_pts2[0], pix_pts2[1], s=5 , c=colors)\n",
    "plt.gca().invert_yaxis()\n",
    "plt.show()"
   ]
  },
  {
   "cell_type": "markdown",
   "metadata": {
    "id": "3_jqAuRRu6wI"
   },
   "source": [
    "**Which camera is the camera on the left? How can you tell?**"
   ]
  },
  {
   "cell_type": "markdown",
   "metadata": {
    "id": "Abf7HInuu-Cq"
   },
   "source": [
    "the first camera is on the left, according to the radian"
   ]
  },
  {
   "cell_type": "markdown",
   "metadata": {
    "id": "Tmwrp2dou-t1"
   },
   "source": [
    "**Now we have the pixel coordiantes in both images and we know which pairs of points correspond to each other, we can solve for the fundamental matrix, which relates pixel coordinates from one image to another.**\n",
    "\n",
    "**Below, fill in the matrix A that you find in slide 46**"
   ]
  },
  {
   "cell_type": "code",
   "execution_count": 19,
   "metadata": {
    "id": "yeoBPfYvKOa9"
   },
   "outputs": [],
   "source": [
    "A = np.zeros((npoints, 9))\n",
    "for i in range(npoints):\n",
    "    pl = pix_pts1[: , i]\n",
    "    pr = pix_pts2[: , i]\n",
    "    pl = pl.reshape(3,1)\n",
    "    pr = pr.reshape(1,3)\n",
    "    base = np.zeros((9,1),dtype = np.float)\n",
    "    \n",
    "    base[0:3] = pl * pr[0,0]\n",
    "    base[3:6] = pl * pr[0,1]\n",
    "    base[6:9] = pl * pr[0,2]\n",
    "    \n",
    "    base = base.reshape(1,9)\n",
    "    A[i] = base"
   ]
  },
  {
   "cell_type": "markdown",
   "metadata": {
    "id": "THnrTDH6vUV8"
   },
   "source": [
    "**Solve for the fundamental matrix given that $Af=0$, and print out the fundamental matrix F. For reference please see slide 62.**"
   ]
  },
  {
   "cell_type": "code",
   "execution_count": 20,
   "metadata": {
    "id": "Owq2lMP6NLzl"
   },
   "outputs": [
    {
     "name": "stdout",
     "output_type": "stream",
     "text": [
      "[[ 2.79823139e-18 -6.48122700e-06  3.58411853e-04]\n",
      " [ 4.73523980e-05 -2.59464350e-19  5.60790126e-02]\n",
      " [-2.61858761e-03 -7.41621952e-02  1.00000000e+00]]\n",
      "5.329070518200751e-15\n",
      "-1.7763568394002505e-15\n",
      "-2.6645352591003757e-15\n",
      "0.0\n",
      "0.0\n",
      "0.0\n",
      "8.881784197001252e-16\n",
      "0.0\n",
      "1.7763568394002505e-15\n",
      "0.0\n",
      "8.881784197001252e-16\n",
      "4.440892098500626e-15\n",
      "3.552713678800501e-15\n",
      "-8.881784197001252e-16\n",
      "3.1086244689504383e-15\n",
      "-1.7763568394002505e-15\n",
      "-1.7763568394002505e-15\n",
      "4.884981308350689e-15\n",
      "4.440892098500626e-15\n",
      "0.0\n"
     ]
    }
   ],
   "source": [
    "u, s, vh = np.linalg.svd(A, full_matrices=True)\n",
    "t = vh[-1, :] / vh[-1, -1]\n",
    "F = t.reshape(3, 3)\n",
    "F = F.T\n",
    "print(F)\n",
    "for i in range (npoints):\n",
    "    print(pix_pts1[:, i] @ F @ pix_pts2[:, i])"
   ]
  },
  {
   "cell_type": "markdown",
   "metadata": {
    "id": "9NLTaPJdvs1m"
   },
   "source": [
    "**Try and recover the essential matrix. We can do this because you already know the calibration matrices $K_r$ and $K_l$. Display the result**"
   ]
  },
  {
   "cell_type": "code",
   "execution_count": 21,
   "metadata": {
    "id": "gzpfEbMGWNse"
   },
   "outputs": [
    {
     "name": "stdout",
     "output_type": "stream",
     "text": [
      "[[ 2.79823139e-12 -6.48122700e+00 -9.31532629e-13]\n",
      " [ 4.73523980e+01 -2.59464350e-13  5.77363465e+01]\n",
      " [ 7.58941521e-14 -7.43890382e+01 -2.48689958e-14]]\n"
     ]
    }
   ],
   "source": [
    "E = Kl.T @ F @ Kr\n",
    "print(E)"
   ]
  },
  {
   "cell_type": "markdown",
   "metadata": {
    "id": "FO_Vno6TwHdc"
   },
   "source": [
    "**Given the essential matrix, we can also recover the rotation between the two cameras. Compute $R$, the rotation between the two cameras, using the essential matrix $E$. Display it, and then using rotatey() display the actual rotation between the two cameras (check the extrinsic matrices of the cameras to determine the true rotation between them).**"
   ]
  },
  {
   "cell_type": "code",
   "execution_count": 22,
   "metadata": {
    "id": "iso_a7XhWpgf"
   },
   "outputs": [
    {
     "name": "stdout",
     "output_type": "stream",
     "text": [
      "[[ 8.25335615e-01  1.81713897e-14 -5.64642473e-01]\n",
      " [-1.51791520e-14  1.00000000e+00  1.02747720e-14]\n",
      " [ 5.64642473e-01  1.43420040e-17  8.25335615e-01]]\n",
      "[[ 0.82533561  0.         -0.56464247]\n",
      " [ 0.          1.          0.        ]\n",
      " [ 0.56464247  0.          0.82533561]]\n"
     ]
    }
   ],
   "source": [
    "U,s,VT = np.linalg.svd(E)\n",
    "S = np.zeros((3,3),dtype = np.float)\n",
    "S[0,0] = s[0]\n",
    "S[1,1] = s[1]\n",
    "S[2,2] = s[2]\n",
    "W = np.array([ [0,-1.0,0] , [1.0 , 0 , 0] , [0.0 , 0 , 1.0] ] , dtype = np.float)\n",
    "Z = np.array([ [0,1.0,0] , [-1.0 , 0 , 0] , [0.0 , 0 , 0] ] , dtype = np.float)\n",
    "\n",
    "R = U @ W.T @ VT\n",
    "R = R/R[1,1]\n",
    "print(R )\n",
    "print(rotatey(-0.6))"
   ]
  },
  {
   "cell_type": "markdown",
   "metadata": {
    "id": "EAPnn8piwh5e"
   },
   "source": [
    "**Are they the same? They should be.**"
   ]
  },
  {
   "cell_type": "markdown",
   "metadata": {
    "id": "2TdPRv1JwkVt"
   },
   "source": [
    "**Now try and recover the translation, and display the result.**"
   ]
  },
  {
   "cell_type": "code",
   "execution_count": 23,
   "metadata": {
    "id": "ZV3Wt8u_W8Xd"
   },
   "outputs": [
    {
     "name": "stdout",
     "output_type": "stream",
     "text": [
      "[[ 0.00000000e+00  8.67972885e-02 -1.39016465e-14]\n",
      " [-8.67972885e-02  0.00000000e+00 -9.96225994e-01]\n",
      " [ 1.39016465e-14  9.96225994e-01  0.00000000e+00]]\n"
     ]
    }
   ],
   "source": [
    "T = U @ Z @U.T\n",
    "print(T)"
   ]
  },
  {
   "cell_type": "markdown",
   "metadata": {
    "id": "pEKPSXP1wm_3"
   },
   "source": [
    "**Chances are, this will be different from the true translation between the cameras. Why is this so?**"
   ]
  },
  {
   "cell_type": "markdown",
   "metadata": {
    "id": "ppq13DISwtxt"
   },
   "source": [
    "The translation is up to scale"
   ]
  },
  {
   "cell_type": "markdown",
   "metadata": {
    "id": "bHR3u8TVwuRi"
   },
   "source": [
    "**Now let's try and plot the epipolar lines. Write a function that given the fundamental matrix and an image pixel coordinate in either the left or the right image, returns the coefficients of the epipolar line in the other image.**"
   ]
  },
  {
   "cell_type": "code",
   "execution_count": 24,
   "metadata": {
    "id": "vyGAMsKE0pCV"
   },
   "outputs": [],
   "source": [
    "def findEpipolar(F, pix_l=None, pix_r=None):\n",
    "    \"\"\" Computes the epipolar line coefficients given the fundamental matrix F and either\n",
    "          the pixel coordinates in the left image (pix_l) or the pixel coordinates in the \n",
    "          right image (pix_r)\n",
    "          Args:\n",
    "            F: Fundamenal matrix 3x3 that relates pixels in one image to another\n",
    "            pix_l: Pixel coordinate in the left image (shape [3, 1])\n",
    "            pix_r: Pixel coordinate in the right image(shape [1, 3])\n",
    "          Return:\n",
    "            line_coeff: The coefficients of the epipolar line in the other image\n",
    "                        If the equation is au + bv + c = 0, the line_coeff = [a, b, c]\n",
    "    \"\"\"\n",
    "\n",
    "    # If the right pixel coordinate is provided, we want to find the coefficients of\n",
    "    # the line in the left image\n",
    "    if pix_l is None:\n",
    "        line_coeff = F @ pix_r.reshape(3,1)\n",
    "        line_coeff = line_coeff.reshape(1,3)\n",
    "    # If the left pixel coordinate is provided, we want to find the coefficients of \n",
    "    # the line in the right image\n",
    "    elif pix_r is None:\n",
    "        line_coeff = pix_l.reshape(1,3) @ F\n",
    "        line_coeff = line_coeff.reshape(1,3)\n",
    "    else:\n",
    "        line_coeff = None\n",
    "    \n",
    "    return line_coeff"
   ]
  },
  {
   "cell_type": "markdown",
   "metadata": {
    "id": "A5QdbDHT5H7j"
   },
   "source": [
    "**Now complete the function below, that given the coefficient of the line and either the $x$ or the $y$ coordinate, finds the other one.**"
   ]
  },
  {
   "cell_type": "code",
   "execution_count": 25,
   "metadata": {
    "id": "nVRqfmVD5gVl"
   },
   "outputs": [],
   "source": [
    "def findOther(line_coeff, u=None, v=None):\n",
    "    \"\"\" Given the coefficients of au + bv + c = 0 in the form [a, b, c], compute either\n",
    "      u if v is given, or v if u is given.\n",
    "      Args:\n",
    "        line_coeff: [a, b, c] vector of the coefficients of the equation above\n",
    "        u: The x coordinate of the pixel\n",
    "        v: The y coordinate of the pixel\n",
    "      Return:\n",
    "        The other pixel coordinate, None if nothing else is provided\n",
    "    \"\"\"\n",
    "    #print(line_coeff)\n",
    "    #print(line_coeff.shape)\n",
    "    if u is None:\n",
    "        a = line_coeff[0,0]\n",
    "        b = line_coeff[0,1]\n",
    "        c = line_coeff[0,2]\n",
    "        u = (-1*b*v - c )/a \n",
    "      \n",
    "        return ( u , v)\n",
    "\n",
    "    elif v is None:\n",
    "        a = line_coeff[0,0]\n",
    "        b = line_coeff[0,1]\n",
    "        c = line_coeff[0,2]\n",
    "        v = (-1*a*u - c)/b\n",
    "        return ( u , v)\n",
    "    \n",
    "    return None"
   ]
  },
  {
   "cell_type": "markdown",
   "metadata": {
    "id": "8o_RT0G3-X6L"
   },
   "source": [
    "**Now, using the two functions above, plot the epipolar lines corresponding to the points from the right image onto the left image. Plot the points in the left image in the same plot. Make sure that the colours match, and each point in the left image should have an epipolar line that passes through them.**"
   ]
  },
  {
   "cell_type": "code",
   "execution_count": 26,
   "metadata": {
    "id": "4HUhCfJ-y1_a",
    "scrolled": false
   },
   "outputs": [
    {
     "data": {
      "image/png": "[encoded data removed]",
      "text/plain": [
       "<Figure size 432x288 with 1 Axes>"
      ]
     },
     "metadata": {
      "needs_background": "light"
     },
     "output_type": "display_data"
    }
   ],
   "source": [
    "plt.scatter(pix_pts1[0,:], pix_pts1[1,:], c=colors)\n",
    "s,e = plt.gca().get_xlim()\n",
    "\n",
    "u = np.linspace(s,e,100)\n",
    "\n",
    "for i in range(len(pix_pts2.T)):\n",
    "    coef = findEpipolar(F, pix_r=pix_pts2[:,i])\n",
    "    v = []\n",
    "    for j in range(100):\n",
    "        v.append(findOther(coef, u=u[j]))\n",
    "    plt.plot(u,np.array(v),c=colors[i])\n",
    "\n",
    "plt.show()"
   ]
  },
  {
   "cell_type": "markdown",
   "metadata": {
    "id": "368RhFpM_Clo"
   },
   "source": [
    "**Now do the same thing, plotting the epipolar lines corresponding to left image points onto the right image.**"
   ]
  },
  {
   "cell_type": "code",
   "execution_count": 27,
   "metadata": {
    "id": "MCXuCpLI-wpU"
   },
   "outputs": [
    {
     "data": {
      "image/png": "[encoded data removed]",
      "text/plain": [
       "<Figure size 432x288 with 1 Axes>"
      ]
     },
     "metadata": {
      "needs_background": "light"
     },
     "output_type": "display_data"
    }
   ],
   "source": [
    "plt.scatter(pix_pts2[0,:], pix_pts2[1,:], c=colors)\n",
    "s,e = plt.gca().get_xlim()\n",
    "u = np.linspace(s,e,100)\n",
    "\n",
    "for i in range(len(pix_pts1.T)):\n",
    "    coef = findEpipolar(F, pix_l=pix_pts1[:,i])\n",
    "    v = []\n",
    "    for j in range(100):\n",
    "        v.append(findOther(coef, u=u[j]))\n",
    "    plt.plot(u,np.array(v),c=colors[i])\n",
    "\n",
    "plt.show()"
   ]
  },
  {
   "cell_type": "markdown",
   "metadata": {
    "id": "Izm_huEy_Mgz"
   },
   "source": [
    "**Now, change the extrinsics of the right camera to include another rotation in either x or z in addition to the y rotation, find the geometry between the left camera and this new right camera, and plot the epipolar lines.**"
   ]
  },
  {
   "cell_type": "code",
   "execution_count": 28,
   "metadata": {
    "id": "oGGtogVBzZYg"
   },
   "outputs": [
    {
     "data": {
      "image/png": "[encoded data removed]",
      "text/plain": [
       "<Figure size 432x288 with 1 Axes>"
      ]
     },
     "metadata": {
      "needs_background": "light"
     },
     "output_type": "display_data"
    },
    {
     "name": "stdout",
     "output_type": "stream",
     "text": [
      "[[ 9.45199457e+02  6.95342658e+00  3.28290474e+02  4.25000000e+05]\n",
      " [ 4.26942916e+01  9.91052992e+02 -1.38019038e+02  8.83000000e+04]\n",
      " [-2.89629478e-01  1.98669331e-01  9.36293364e-01  1.00000000e+03]]\n"
     ]
    },
    {
     "data": {
      "image/png": "[encoded data removed]",
      "text/plain": [
       "<Figure size 432x288 with 1 Axes>"
      ]
     },
     "metadata": {
      "needs_background": "light"
     },
     "output_type": "display_data"
    },
    {
     "name": "stdout",
     "output_type": "stream",
     "text": [
      "[[ 6.94175963e-06 -3.45698578e-06  9.60055894e-03]\n",
      " [ 1.90158951e-05 -5.00472712e-06  2.43002991e-02]\n",
      " [-1.14412825e-02 -3.18813006e-02  1.00000000e+00]]\n",
      "-9.992007221626409e-16\n",
      "-6.217248937900877e-15\n",
      "-3.635980405647388e-15\n",
      "-4.218847493575595e-15\n",
      "-5.329070518200751e-15\n",
      "-7.327471962526033e-15\n",
      "-3.552713678800501e-15\n",
      "-1.4432899320127035e-15\n",
      "-3.3306690738754696e-15\n",
      "-1.021405182655144e-14\n",
      "-2.4424906541753444e-15\n",
      "5.551115123125783e-16\n",
      "-6.106226635438361e-16\n",
      "-6.827871601444713e-15\n",
      "-1.7763568394002505e-15\n",
      "-1.3895135042574225e-15\n",
      "-6.217248937900877e-15\n",
      "2.220446049250313e-16\n",
      "2.220446049250313e-16\n",
      "-3.9968028886505635e-15\n",
      "[[  6.94175963  -3.45698578   9.65234922]\n",
      " [ 19.01589507  -5.00472712  24.68909397]\n",
      " [-10.14674192 -32.27905653   0.53965831]]\n"
     ]
    },
    {
     "data": {
      "image/png": "[encoded data removed]",
      "text/plain": [
       "<Figure size 432x288 with 1 Axes>"
      ]
     },
     "metadata": {
      "needs_background": "light"
     },
     "output_type": "display_data"
    },
    {
     "data": {
      "image/png": "[encoded data removed]",
      "text/plain": [
       "<Figure size 432x288 with 1 Axes>"
      ]
     },
     "metadata": {
      "needs_background": "light"
     },
     "output_type": "display_data"
    }
   ],
   "source": [
    "Kl = [ [1000 , 0 , 35 ] , [0 , 1000 , 55.3 ] , [0 , 0 , 1 ] ]\n",
    "Kl = np.array(Kl , dtype = np.float)\n",
    "p1 = -0.3\n",
    "Hl = [ [ np.cos(p1) , 0 , np.sin(p1) , 280] , [0 , 1 , 0 , 33] , [-np.sin(p1) , 0 , np.cos(p1) , 1000] , [0 , 0 , 0 , 1] ]\n",
    "Hl = np.array(Hl , dtype = np.float)\n",
    "P1 = Pmatrix( Mmatrix(Kl) , Hl)\n",
    "\n",
    "pix_pts1 = np.zeros((3, 20))\n",
    "for i in range(pts.shape[1]):\n",
    "    pix_pts1[: , i] = P1 @ pts[: , i]\n",
    "    pix_pts1[: , i] = pix_pts1[: , i] / pix_pts1[ 2 , i]\n",
    "fig = plt.figure()\n",
    "plt.scatter(pix_pts1[0], pix_pts1[1], s=5 , c=colors)\n",
    "plt.gca().invert_yaxis()\n",
    "plt.show()\n",
    "\n",
    "Kr = [ [1000 , 0 , 35 ] , [0 , 1000 , 55.3 ] , [0 , 0 , 1 ] ]\n",
    "Kr = np.array(Kr , dtype = np.float)\n",
    "p2 = 0.3\n",
    "Hr = [ [ np.cos(p2) , 0 , np.sin(p2) , 390] , [0 , 1 , 0 , 33] , [-np.sin(p2) , 0 , np.cos(p2) , 1000] , [0 , 0 , 0 , 1] ]\n",
    "Hr = np.array(Hr , dtype = np.float)\n",
    "Hr[0:3 , 0:3] = rotatex(0.2) @ rotatey(0.3)\n",
    "P2 = Pmatrix( Mmatrix(Kr) , Hr)\n",
    "print(P2)\n",
    "pix_pts2 = np.zeros((3, 20))\n",
    "for i in range(pts.shape[1]):\n",
    "    pix_pts2[: , i] = P2 @ pts[: , i]\n",
    "    pix_pts2[: , i] = pix_pts2[: , i] / pix_pts2[ 2 , i]\n",
    "fig = plt.figure()\n",
    "plt.scatter(pix_pts2[0], pix_pts2[1], s=5 , c=colors)\n",
    "plt.gca().invert_yaxis()\n",
    "plt.show()\n",
    "\n",
    "A = np.zeros((npoints, 9))\n",
    "for i in range(npoints):\n",
    "    pl = pix_pts1[: , i]\n",
    "    pr = pix_pts2[: , i]\n",
    "    pl = pl.reshape(3,1)\n",
    "    pr = pr.reshape(1,3)\n",
    "    base = np.zeros((9,1),dtype = np.float)\n",
    "    \n",
    "    base[0:3] = pl * pr[0,0]\n",
    "    base[3:6] = pl * pr[0,1]\n",
    "    base[6:9] = pl * pr[0,2]\n",
    "    \n",
    "    base = base.reshape(1,9)\n",
    "    A[i] = base\n",
    "\n",
    "u, s, vh = np.linalg.svd(A, full_matrices=True)\n",
    "t = vh[-1, :] / vh[-1, -1]\n",
    "F = t.reshape(3, 3)\n",
    "F = F.T\n",
    "print(F)\n",
    "for i in range (npoints):\n",
    "    print(pix_pts1[:, i] @ F @ pix_pts2[:, i])\n",
    "\n",
    "E = Kl.T @ F @ Kr\n",
    "print(E)\n",
    "\n",
    "plt.scatter(pix_pts1[0,:], pix_pts1[1,:], c=colors)\n",
    "s,e = plt.gca().get_xlim()\n",
    "\n",
    "u = np.linspace(s,e,100)\n",
    "\n",
    "for i in range(len(pix_pts2.T)):\n",
    "    coef = findEpipolar(F, pix_r=pix_pts2[:,i])\n",
    "    v = []\n",
    "    for j in range(100):\n",
    "        v.append(findOther(coef, u=u[j]))\n",
    "    plt.plot(u,np.array(v),c=colors[i])\n",
    "\n",
    "plt.show()\n",
    "\n",
    "plt.scatter(pix_pts2[0,:], pix_pts2[1,:], c=colors)\n",
    "s,e = plt.gca().get_xlim()\n",
    "u = np.linspace(s,e,100)\n",
    "\n",
    "for i in range( len(pix_pts1.T)):\n",
    "    coef = findEpipolar(F, pix_l=pix_pts1[:,i])\n",
    "    v = []\n",
    "    for j in range(100):\n",
    "        v.append(findOther(coef, u=u[j]))\n",
    "    plt.plot(u,np.array(v),c=colors[i])\n",
    "\n",
    "plt.show()"
   ]
  },
  {
   "cell_type": "code",
   "execution_count": null,
   "metadata": {},
   "outputs": [],
   "source": []
  }
 ],
 "metadata": {
  "colab": {
   "collapsed_sections": [
    "TgFDOQD0mxL2"
   ],
   "name": "(Week 8) Camera Geometry.ipynb",
   "provenance": []
  },
  "kernelspec": {
   "display_name": "Python 3",
   "language": "python",
   "name": "python3"
  },
  "language_info": {
   "codemirror_mode": {
    "name": "ipython",
    "version": 3
   },
   "file_extension": ".py",
   "mimetype": "text/x-python",
   "name": "python",
   "nbconvert_exporter": "python",
   "pygments_lexer": "ipython3",
   "version": "3.8.3"
  }
 },
 "nbformat": 4,
 "nbformat_minor": 1
}
