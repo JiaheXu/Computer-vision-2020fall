{
 "cells": [
  {
   "cell_type": "code",
   "execution_count": null,
   "metadata": {},
   "outputs": [],
   "source": [
    "#!/usr/bin/env python3\n",
    "import cv2\n",
    "from p1n2 import *\n",
    "import os\n",
    "\n",
    "def best_match(object_database, test_object):\n",
    "    '''\n",
    "\n",
    "    Args:\n",
    "        object_database: a list training images and each training image is stored as dictionary with keys name and image\n",
    "        test_object: test image, a 2D unit8 array\n",
    "\n",
    "    Returns:\n",
    "        object_names: a list of filenames from object_database whose patterns match the test image\n",
    "        You will need to use functions from p1n2.py\n",
    "    '''\n",
    "  # TODO\n",
    "  return object_names\n",
    "\n",
    "def main(argv):\n",
    "  img_name = argv[0]\n",
    "  test_img = cv2.imread('test/' + img_name + '.png', cv2.IMREAD_COLOR)\n",
    "\n",
    "  train_im_names = os.listdir('train/')\n",
    "  object_database = []\n",
    "  for train_im_name in train_im_names:\n",
    "      train_im = cv2.imread('train/' + train_im_name, cv2.IMREAD_COLOR)\n",
    "      object_database.append({'name': train_im_name, 'image':train_im})\n",
    "  object_names = best_match(object_database, test_img)\n",
    "  print(object_names)\n",
    "\n",
    "\n",
    "if __name__ == '__main__':\n",
    "  main(sys.argv[1:])\n",
    "\n",
    "# example usage: python p3.py many_objects_1.png"
   ]
  }
 ],
 "metadata": {
  "kernelspec": {
   "display_name": "Python 3",
   "language": "python",
   "name": "python3"
  },
  "language_info": {
   "codemirror_mode": {
    "name": "ipython",
    "version": 3
   },
   "file_extension": ".py",
   "mimetype": "text/x-python",
   "name": "python",
   "nbconvert_exporter": "python",
   "pygments_lexer": "ipython3",
   "version": "3.8.3"
  }
 },
 "nbformat": 4,
 "nbformat_minor": 4
}
