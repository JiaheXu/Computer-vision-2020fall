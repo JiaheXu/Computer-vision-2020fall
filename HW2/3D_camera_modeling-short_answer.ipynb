{
 "cells": [
  {
   "cell_type": "markdown",
   "metadata": {},
   "source": [
    "# question1 "
   ]
  },
  {
   "cell_type": "code",
   "execution_count": 1,
   "metadata": {},
   "outputs": [],
   "source": [
    "%matplotlib inline\n",
    "import matplotlib.pyplot as plt\n",
    "import numpy as np\n",
    "import cv2"
   ]
  },
  {
   "cell_type": "code",
   "execution_count": 2,
   "metadata": {},
   "outputs": [
    {
     "name": "stdout",
     "output_type": "stream",
     "text": [
      "projections\n",
      "0.0 0.0\n",
      "5.0 0.0\n",
      "3.75 3.75\n",
      "3.75 3.75\n"
     ]
    }
   ],
   "source": [
    "points = [ [0,0,1000,1] , [100,0,1000,1] , [150,150,2000,1] , [300,300,4000,1] ]\n",
    "points = np.array(points , dtype = np.float)\n",
    "z = 50\n",
    "data_num = 4\n",
    "print(\"projections\")\n",
    "for i in range(data_num):\n",
    "    x = points[i,0]*z/points[i,2]\n",
    "    y = points[i,1]*z/points[i,2]\n",
    "    print(x,y)\n",
    "    "
   ]
  },
  {
   "cell_type": "markdown",
   "metadata": {},
   "source": [
    "# question2"
   ]
  },
  {
   "cell_type": "code",
   "execution_count": 3,
   "metadata": {},
   "outputs": [
    {
     "name": "stdout",
     "output_type": "stream",
     "text": [
      "in pixel coordinate\n",
      "[500. 500.]\n",
      "[1500.  500.]\n",
      "[1250. 1250.]\n",
      "[1250. 1250.]\n"
     ]
    }
   ],
   "source": [
    "f = 50.0 \n",
    "m = 200.0\n",
    "fx = f*m\n",
    "fy = fx\n",
    "ox = 500.0\n",
    "oy = ox\n",
    "homo_points = points.copy()\n",
    "homo_points = homo_points.T\n",
    "intrinsicM = [[fx , 0 , ox , 0] , [0 , fy , oy , 0], [0, 0, 1, 0] ]\n",
    "intrinsicM = np.array(intrinsicM , dtype = np.float)\n",
    "print(\"in pixel coordinate\")\n",
    "for i in range(data_num):\n",
    "    pos = intrinsicM @ points[i]\n",
    "    pos = pos/pos[2]\n",
    "    print(pos[0:2])  "
   ]
  },
  {
   "cell_type": "markdown",
   "metadata": {},
   "source": [
    "# question3"
   ]
  },
  {
   "cell_type": "code",
   "execution_count": 4,
   "metadata": {},
   "outputs": [
    {
     "name": "stdout",
     "output_type": "stream",
     "text": [
      "in metric coordinate\n",
      "5.0 0.0\n",
      "10.0 0.0\n",
      "6.25 3.75\n",
      "5.0 3.75\n",
      "\n",
      "\n",
      "projection in pixel coordinate\n",
      "[1500.  500.]\n",
      "[2500.  500.]\n",
      "[1750. 1250.]\n",
      "[1500. 1250.]\n"
     ]
    }
   ],
   "source": [
    "points = [ [0,0,1000,1] , [100,0,1000,1] , [150,150,2000,1] , [300,300,4000,1] ]\n",
    "points = np.array(points , dtype = np.float)\n",
    "translation = np.identity(4 , dtype = np.float)\n",
    "translation[0,3] = 100\n",
    "\n",
    "z = 50\n",
    "data_num = 4\n",
    "print(\"in metric coordinate\")\n",
    "for i in range(data_num):\n",
    "    #tmp = points[i].reshape(3,1)\n",
    "    tmp = translation @ points[i] #np.transpose(points[i])\n",
    "    points[i] = tmp.T\n",
    "    x = points[i,0]*z/points[i,2]\n",
    "    y = points[i,1]*z/points[i,2]\n",
    "    print(x,y)\n",
    "print(\"\\n\")\n",
    "f = 50.0 \n",
    "m = 200.0\n",
    "fx = f*m\n",
    "fy = fx\n",
    "ox = 500.0\n",
    "oy = ox\n",
    "intrinsicM = [[fx , 0 , ox , 0] , [0 , fy , oy , 0], [0, 0, 1, 0] ]\n",
    "intrinsicM = np.array(intrinsicM , dtype = np.float)\n",
    "print(\"projection in pixel coordinate\")\n",
    "for i in range(data_num):\n",
    "    pos = intrinsicM  @ points[i]\n",
    "    pos = pos/pos[2]\n",
    "    print(pos[0:2]) "
   ]
  },
  {
   "cell_type": "markdown",
   "metadata": {},
   "source": [
    "# question4"
   ]
  },
  {
   "cell_type": "code",
   "execution_count": 10,
   "metadata": {},
   "outputs": [
    {
     "name": "stdout",
     "output_type": "stream",
     "text": [
      "in metric coordinate\n",
      "5.0 0.0\n",
      "9.98097349045873 0.4357787137382909\n",
      "5.908896082540327 4.062564153147764\n",
      "4.658896082540327 4.062564153147764\n",
      "\n",
      "\n",
      "projection in pixel coordinate\n",
      "[1500  500]\n",
      "[2496  587]\n",
      "[1681 1312]\n",
      "[1431 1312]\n"
     ]
    }
   ],
   "source": [
    "q3 = 5.0/180.0 * np.pi\n",
    "extrinsicM = [[np.cos(q3) , -np.sin(q3) , 0 , 0] , [np.sin(q3), np.cos(q3) , 0 , 0], [0, 0, 1.0, 0] , [0 , 0 , 0 , 1.0]  ]\n",
    "extrinsicM = np.array(extrinsicM , dtype = np.float)\n",
    "    \n",
    "points = [ [0,0,1000,1] , [100,0,1000,1] , [150,150,2000,1] , [300,300,4000,1] ]\n",
    "points = np.array(points , dtype = np.float)\n",
    "translation = np.identity(4 , dtype = np.float)\n",
    "translation[0,3] = 100\n",
    "\n",
    "z = 50\n",
    "data_num = 4\n",
    "print(\"in metric coordinate\")\n",
    "for i in range(data_num):\n",
    "    tmp = translation @ extrinsicM @  points[i] #np.transpose(points[i])\n",
    "    points[i] = tmp.T\n",
    "    x = points[i,0]*z/points[i,2]\n",
    "    y = points[i,1]*z/points[i,2]\n",
    "    print(x,y)\n",
    "print(\"\\n\")\n",
    "\n",
    "f = 50.0 \n",
    "m = 200.0\n",
    "fx = f*m\n",
    "fy = fx\n",
    "ox = 500.0\n",
    "oy = ox\n",
    "intrinsicM = [[fx , 0 , ox , 0] , [0 , fy , oy , 0], [0, 0, 1, 0] ]\n",
    "intrinsicM = np.array(intrinsicM , dtype = np.float)\n",
    "print(\"projection in pixel coordinate\")\n",
    "for i in range(data_num):\n",
    "    pos = intrinsicM @ points[i]\n",
    "    pos = pos/pos[2]\n",
    "    pos = np.int32(pos)\n",
    "    print(pos[0:2]) "
   ]
  },
  {
   "cell_type": "markdown",
   "metadata": {},
   "source": [
    "# question5"
   ]
  },
  {
   "cell_type": "code",
   "execution_count": 11,
   "metadata": {},
   "outputs": [
    {
     "name": "stdout",
     "output_type": "stream",
     "text": [
      "in metric coordinate\n",
      "4.9809734904587275 0.4357787137382909\n",
      "9.961946980917455 0.8715574274765818\n",
      "5.899382827769692 4.280453510016909\n",
      "4.65413945515501 4.1715088315823365\n",
      "\n",
      "\n",
      "projection in pixel coordinate\n",
      "[1496  587]\n",
      "[2492  674]\n",
      "[1679 1356]\n",
      "[1430 1334]\n"
     ]
    }
   ],
   "source": [
    "q3 = 5.0/180.0 * np.pi\n",
    "extrinsicM = [[np.cos(q3) , -np.sin(q3) , 0 , 0] , [np.sin(q3), np.cos(q3) , 0 , 0], [0, 0, 1.0, 0] , [0 , 0 , 0 , 1.0]  ]\n",
    "extrinsicM = np.array(extrinsicM , dtype = np.float)\n",
    "    \n",
    "points = [ [0,0,1000,1] , [100,0,1000,1] , [150,150,2000,1] , [300,300,4000,1] ]\n",
    "points = np.array(points , dtype = np.float)\n",
    "translation = np.identity(4 , dtype = np.float)\n",
    "translation[0,3] = 100\n",
    "\n",
    "z = 50\n",
    "data_num = 4\n",
    "print(\"in metric coordinate\")\n",
    "for i in range(data_num):\n",
    "    tmp = extrinsicM @ translation @ points[i] #np.transpose(points[i])\n",
    "    points[i] = tmp.T\n",
    "    x = points[i,0]*z/points[i,2]\n",
    "    y = points[i,1]*z/points[i,2]\n",
    "    print(x,y)\n",
    "print(\"\\n\")\n",
    "\n",
    "f = 50.0 \n",
    "m = 200.0\n",
    "fx = f*m\n",
    "fy = fx\n",
    "ox = 500.0\n",
    "oy = ox\n",
    "intrinsicM = [[fx , 0 , ox , 0] , [0 , fy , oy , 0], [0, 0, 1, 0] ]\n",
    "intrinsicM = np.array(intrinsicM , dtype = np.float)\n",
    "print(\"projection in pixel coordinate\")\n",
    "for i in range(data_num):\n",
    "    pos = intrinsicM  @ points[i]\n",
    "    pos = pos/pos[2]\n",
    "    pos = np.int32(pos)\n",
    "    print(pos[0:2]) "
   ]
  },
  {
   "cell_type": "code",
   "execution_count": null,
   "metadata": {},
   "outputs": [],
   "source": []
  },
  {
   "cell_type": "code",
   "execution_count": null,
   "metadata": {},
   "outputs": [],
   "source": []
  }
 ],
 "metadata": {
  "kernelspec": {
   "display_name": "Python 3",
   "language": "python",
   "name": "python3"
  },
  "language_info": {
   "codemirror_mode": {
    "name": "ipython",
    "version": 3
   },
   "file_extension": ".py",
   "mimetype": "text/x-python",
   "name": "python",
   "nbconvert_exporter": "python",
   "pygments_lexer": "ipython3",
   "version": "3.8.3"
  }
 },
 "nbformat": 4,
 "nbformat_minor": 4
}
