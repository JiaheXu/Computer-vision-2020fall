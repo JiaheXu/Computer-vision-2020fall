{
 "cells": [
  {
   "cell_type": "code",
   "execution_count": 1,
   "metadata": {},
   "outputs": [],
   "source": [
    "import matplotlib.pyplot as plt\n",
    "import numpy as np\n",
    "import cv2"
   ]
  },
  {
   "cell_type": "markdown",
   "metadata": {},
   "source": [
    "# part1"
   ]
  },
  {
   "cell_type": "code",
   "execution_count": 2,
   "metadata": {},
   "outputs": [
    {
     "name": "stdout",
     "output_type": "stream",
     "text": [
      "affine transformation\n",
      "[[2.  3.  7. ]\n",
      " [1.5 1.  8.7]\n",
      " [0.  0.  1. ]]\n"
     ]
    }
   ],
   "source": [
    "\n",
    "datapath= './short_questions/1a.npy'\n",
    "source= np.load(datapath).reshape(10, 2)\n",
    "\n",
    "datapath= './short_questions/1b.npy'\n",
    "target = np.load(datapath).reshape(10, 2)  \n",
    "data_num = source.shape[0]\n",
    "\n",
    "#print(source)\n",
    "#print(target)\n",
    "A = np.zeros((data_num*2, 6))\n",
    "b = np.zeros((data_num*2, 1))\n",
    "for i in range(data_num):\n",
    "    A[i*2 , 0:2] = source[i][0:2]\n",
    "    A[i*2 , 2] = 1.0\n",
    "    b[i*2] = target[i,0]\n",
    "    \n",
    "    A[i*2+1 , 3:5] = source[i][0:2]\n",
    "    A[i*2+1 , 5] = 1.0\n",
    "    b[i*2+1] = target[i,1]\n",
    "    \n",
    "t =  np.linalg.inv(np.transpose(A) @ A) @ np.transpose(A) @ b\n",
    "\n",
    "T = np.zeros((3,3),dtype = np.float)\n",
    "T[0:2 , : ] = t.reshape(2,3)\n",
    "T[2,2] = 1.0\n",
    "print(\"affine transformation\")\n",
    "print(T)\n",
    "\n"
   ]
  },
  {
   "cell_type": "code",
   "execution_count": 3,
   "metadata": {},
   "outputs": [
    {
     "name": "stdout",
     "output_type": "stream",
     "text": [
      "check\n",
      "result\n",
      "[-7.07758324  4.26041664]\n",
      "target\n",
      "[-7.07758324  4.26041664]\n",
      "result\n",
      "[ 2.07104131 10.906895  ]\n",
      "target\n",
      "[ 2.07104131 10.906895  ]\n",
      "result\n",
      "[10.62703709 13.3920624 ]\n",
      "target\n",
      "[10.62703709 13.3920624 ]\n",
      "result\n",
      "[12.60382819 11.86785494]\n",
      "target\n",
      "[12.60382819 11.86785494]\n",
      "result\n",
      "[-7.65138398  0.12442313]\n",
      "target\n",
      "[-7.65138398  0.12442313]\n",
      "result\n",
      "[1.63011275 5.46161345]\n",
      "target\n",
      "[1.63011275 5.46161345]\n",
      "result\n",
      "[-8.83809479  1.78960547]\n",
      "target\n",
      "[-8.83809479  1.78960547]\n",
      "result\n",
      "[19.45995764 15.98888992]\n",
      "target\n",
      "[19.45995764 15.98888992]\n",
      "result\n",
      "[17.88921907 14.6106223 ]\n",
      "target\n",
      "[17.88921907 14.6106223 ]\n",
      "result\n",
      "[20.24461902 15.7981203 ]\n",
      "target\n",
      "[20.24461902 15.7981203 ]\n"
     ]
    }
   ],
   "source": [
    "print(\"check\")\n",
    "for i in range(data_num):\n",
    "    check = np.zeros( (1,3))\n",
    "    check[0,0:2] = source[i,:]\n",
    "    check[0,2] = 1.0\n",
    "    check = np.transpose(check)\n",
    "    result = T @ check\n",
    "    result = np.transpose(result)\n",
    "    print(\"result\")\n",
    "    print(result[0,0:2])\n",
    "    print(\"target\")\n",
    "    print(target[i,:])\n"
   ]
  },
  {
   "cell_type": "markdown",
   "metadata": {},
   "source": [
    "# part2"
   ]
  },
  {
   "cell_type": "markdown",
   "metadata": {},
   "source": [
    "homography"
   ]
  },
  {
   "cell_type": "code",
   "execution_count": 4,
   "metadata": {},
   "outputs": [
    {
     "name": "stdout",
     "output_type": "stream",
     "text": [
      "homography\n",
      "[[1.00000000e+00 1.00000000e+00 5.00000000e+00]\n",
      " [8.00000000e+00 7.00000000e+00 1.00000000e+01]\n",
      " [3.38109230e-16 2.35071221e-16 1.00000000e+00]]\n"
     ]
    }
   ],
   "source": [
    "datapath= './short_questions/2a.npy'\n",
    "source= np.load(datapath).reshape(-1, 2)\n",
    "\n",
    "datapath= './short_questions/2b.npy'\n",
    "target = np.load(datapath).reshape(-1, 2)  \n",
    "data_num = source.shape[0]\n",
    "\n",
    "#print(source.shape)\n",
    "#print(target.shape)\n",
    "A = np.zeros((data_num*2, 9))\n",
    "b = np.zeros((data_num*2, 1))\n",
    "for i in range(data_num):\n",
    "    A[i*2 , 0:2] = source[i , 0:2]\n",
    "    A[i*2 , 2] = 1.0\n",
    "    A[i*2 , 6:8] = -1*target[i,0]*source[i , 0:2]\n",
    "    A[i*2 , 8] = -1*target[i,0]\n",
    "        \n",
    "    A[i*2+1 , 3:5] = source[i , 0:2]\n",
    "    A[i*2+1 , 5] = 1.0\n",
    "    A[i*2+1 , 6:8] = -1*target[i,1]*source[i , 0:2]\n",
    "    A[i*2+1 , 8] = -1*target[i,1]\n",
    "u, s, vh = np.linalg.svd(A, full_matrices=True)\n",
    "t = vh[-1, :] / vh[-1, -1]\n",
    "p = t.reshape(3, 3)\n",
    "print(\"homography\")\n",
    "print(p)\n",
    "\n",
    "#to check the homography\n",
    "\n",
    "for i in range(data_num):\n",
    "    #print(source[i])\n",
    "    tmp = np.array([source[i,0] , source[i,1] , 1])\n",
    "    tmp = tmp.T\n",
    "    mapped = p @ tmp\n",
    "    mapped /= mapped[2]\n",
    "    #print(mapped)\n",
    "    #print(target[i])\n"
   ]
  },
  {
   "cell_type": "markdown",
   "metadata": {},
   "source": [
    "# part 3"
   ]
  },
  {
   "cell_type": "code",
   "execution_count": 5,
   "metadata": {},
   "outputs": [],
   "source": [
    "def cal_homography(source , target):\n",
    "    data_num = source.shape[0]\n",
    "    A = np.zeros((data_num*2, 9))\n",
    "    b = np.zeros((data_num*2, 1))\n",
    "    for i in range(data_num):\n",
    "        A[i*2 , 0:2] = source[i , 0:2]\n",
    "        A[i*2 , 2] = 1.0\n",
    "        A[i*2 , 6:8] = -1*target[i,0]*source[i , 0:2]\n",
    "        A[i*2 , 8] = -1*target[i,0]\n",
    "\n",
    "        A[i*2+1 , 3:5] = source[i , 0:2]\n",
    "        A[i*2+1 , 5] = 1.0\n",
    "        A[i*2+1 , 6:8] = -1*target[i,1]*source[i , 0:2]\n",
    "        A[i*2+1 , 8] = -1*target[i,1]\n",
    "    u, s, vh = np.linalg.svd(A, full_matrices=True)\n",
    "    t = vh[-1, :] / vh[-1, -1]\n",
    "    p = t.reshape(3, 3)\n",
    "    \n",
    "    return p"
   ]
  },
  {
   "cell_type": "code",
   "execution_count": 6,
   "metadata": {},
   "outputs": [
    {
     "name": "stdout",
     "output_type": "stream",
     "text": [
      "homography found by RANSAC\n",
      "[[2.0000000e+00 6.0000000e+00 6.0000000e+00]\n",
      " [4.0000000e+00 5.0000000e+00 3.0000000e+00]\n",
      " [2.4269744e-16 9.6801000e-16 1.0000000e+00]]\n"
     ]
    }
   ],
   "source": [
    "datapath= './short_questions/3a.npy'\n",
    "source= np.load(datapath).reshape( -1, 2)\n",
    "\n",
    "datapath= './short_questions/3b.npy'\n",
    "target = np.load(datapath).reshape( -1, 2)  \n",
    "data_num = source.shape[0]\n",
    "\n",
    "\n",
    "##### RANSAC\n",
    "\n",
    "# Some parameters\n",
    "num_samples = 5\n",
    "num_trials = 3000\n",
    "total_matches = data_num\n",
    "inlier_thresh = 1.0\n",
    "\n",
    "# To keep track of the best transformation\n",
    "xform = np.zeros((3, 3))\n",
    "most_inliers = 0\n",
    "\n",
    "# Loop through num_trials times\n",
    "for i in range(num_trials):\n",
    "\n",
    "    # Randomly choose num_samples indices from total number of matches\n",
    "    choices = np.random.choice(total_matches, num_samples, replace=False)\n",
    "\n",
    "    # Get the matching keypoint coordinates from those indices\n",
    "    keypoints1 = source[choices]\n",
    "    keypoints2 = target[choices]\n",
    "    #print(keypoints1)\n",
    "    #print(keypoints2)\n",
    "    \n",
    "    # Use getAffineTransform to get our transformation matrix\n",
    "    M = cal_homography( keypoints1 , keypoints2 )\n",
    "    \n",
    "    transformation = M.reshape(3,3)\n",
    "    #print(transformation)\n",
    "    num_inliers = 0\n",
    "\n",
    "      # Loop through all of our matches\n",
    "    for j in range(total_matches):\n",
    "        \n",
    "        tmp = np.array([source[j,0] , source[j,1]  , 1])\n",
    "        tmp = tmp.T\n",
    "        exp_coord = transformation @ tmp\n",
    "        exp_coord /= exp_coord[2]\n",
    "        \n",
    "        dif = np.linalg.norm(exp_coord[0:2] - target[j , 0:2 ])\n",
    "        if inlier_thresh > dif:\n",
    "            num_inliers = num_inliers+1\n",
    "\n",
    "      # If for this transformation we have found the most inliers update most_inliers and xform\n",
    "    if num_inliers > most_inliers:\n",
    "        most_inliers = num_inliers\n",
    "        xform = np.copy(np.float32(transformation))\n",
    "print(\"homography found by RANSAC\")\n",
    "print(xform)\n",
    "        "
   ]
  },
  {
   "cell_type": "code",
   "execution_count": 7,
   "metadata": {},
   "outputs": [
    {
     "name": "stdout",
     "output_type": "stream",
     "text": [
      "[22.0704699  13.18267276  1.        ]\n",
      "[22.0704699  13.18267276]\n",
      "[23.31737329 27.43277103  1.        ]\n",
      "[23.31737329 27.43277103]\n",
      "[10.62641542  3.21077451  1.        ]\n",
      "[10.62641542  3.21077451]\n",
      "[23.86910371 11.16423238  1.        ]\n",
      "[23.86910371 11.16423238]\n",
      "[6.8622206  3.49830311 1.        ]\n",
      "[6.8622206  3.49830311]\n",
      "[-1.0739669   7.07701246  1.        ]\n",
      "[-1.0739669   7.07701246]\n",
      "[7.73086207 6.56405659 1.        ]\n",
      "[7.73086207 6.56405659]\n",
      "[10.1349595   6.27559078  1.        ]\n",
      "[10.1349595   6.27559078]\n",
      "[12.58426441 16.34372905  1.        ]\n",
      "[12.58426441 16.34372905]\n",
      "[37.28747888 37.37296006  1.        ]\n",
      "[37.28747888 37.37296006]\n",
      "[3.21539896 5.7126553  1.        ]\n",
      "[4.39852144 2.16328785]\n",
      "[-0.25163398  1.09503664  1.        ]\n",
      "[ 1.26240953 -3.44709391]\n",
      "[27.45154625 25.65847266  1.        ]\n",
      "[24.5594577 34.3347383]\n",
      "[2.52422294 6.37673285 1.        ]\n",
      "[3.99969251 1.95032415]\n",
      "[-6.93987117  3.13975913  1.        ]\n",
      "[-3.22279953 -8.01145579]\n",
      "match number\n",
      "10\n"
     ]
    }
   ],
   "source": [
    "for i in range(data_num):\n",
    "    #print(source[i])\n",
    "    tmp = np.array([source[i,0] , source[i,1], 1])\n",
    "    tmp = tmp.T\n",
    "    mapped = xform @ tmp\n",
    "    mapped /= mapped[2]\n",
    "    print(mapped)\n",
    "    print(target[i])\n",
    "print(\"match number\")\n",
    "print(most_inliers)"
   ]
  },
  {
   "cell_type": "markdown",
   "metadata": {},
   "source": [
    "# part4"
   ]
  },
  {
   "cell_type": "code",
   "execution_count": 8,
   "metadata": {},
   "outputs": [
    {
     "data": {
      "text/plain": [
       "(array([ 1.68195599,  4.13864855, 25.95054877,  0.        , 19.62930944,\n",
       "         5.66959413,  6.59930367,  0.        ,  7.25646004,  0.        ]),\n",
       " array([-1.57079633, -1.25663706, -0.9424778 , -0.62831853, -0.31415927,\n",
       "         0.        ,  0.31415927,  0.62831853,  0.9424778 ,  1.25663706,\n",
       "         1.57079633]),\n",
       " <a list of 10 Patch objects>)"
      ]
     },
     "execution_count": 8,
     "metadata": {},
     "output_type": "execute_result"
    },
    {
     "data": {
      "image/png": "[encoded data removed]",
      "text/plain": [
       "<Figure size 432x288 with 1 Axes>"
      ]
     },
     "metadata": {
      "needs_background": "light"
     },
     "output_type": "display_data"
    }
   ],
   "source": [
    "datapath= './short_questions/gradients.npy'\n",
    "gradients = np.load(datapath).reshape( 20, -1)\n",
    "data_num = 20\n",
    "\n",
    "magnitude = np.sqrt( (gradients[ :,0 ] * gradients[ :,0 ]) + (gradients[ :,1 ] * gradients[ :,1 ]))\n",
    "#print(magnitude.shape)\n",
    "magnitude = magnitude.reshape(20,1)\n",
    "orientation = np.zeros((20,1),dtype = np.float)\n",
    "for i in range(data_num):\n",
    "    tmp = gradients[i,0]\n",
    "    if( np.abs(gradients[i,0]) <1e-6): tmp = 1e-6\n",
    "    orientation[i] = np.arctan( gradients[i,1] / tmp )\n",
    "#hist , edge \n",
    "plt.hist( orientation , bins = 10 , range = (-np.pi/2 , np.pi/2) ,weights = magnitude)\n",
    "#for i in range(data_num):\n",
    "#plt.hist2d(x = gradients[:,0] , y = gradients[:,1] , bins=10)"
   ]
  },
  {
   "cell_type": "markdown",
   "metadata": {},
   "source": [
    "# part5"
   ]
  },
  {
   "cell_type": "code",
   "execution_count": 12,
   "metadata": {},
   "outputs": [
    {
     "name": "stdout",
     "output_type": "stream",
     "text": [
      "./data/bikes1.png\n"
     ]
    },
    {
     "data": {
      "image/png": "[encoded data removed]",
      "text/plain": [
       "<Figure size 432x288 with 1 Axes>"
      ]
     },
     "metadata": {
      "needs_background": "light"
     },
     "output_type": "display_data"
    },
    {
     "name": "stdout",
     "output_type": "stream",
     "text": [
      "./data/graf1.png\n"
     ]
    },
    {
     "data": {
      "image/png": "[encoded data removed]",
      "text/plain": [
       "<Figure size 432x288 with 1 Axes>"
      ]
     },
     "metadata": {
      "needs_background": "light"
     },
     "output_type": "display_data"
    },
    {
     "name": "stdout",
     "output_type": "stream",
     "text": [
      "./data/leuven1.png\n"
     ]
    },
    {
     "data": {
      "image/png": "[encoded data removed]",
      "text/plain": [
       "<Figure size 432x288 with 1 Axes>"
      ]
     },
     "metadata": {
      "needs_background": "light"
     },
     "output_type": "display_data"
    },
    {
     "name": "stdout",
     "output_type": "stream",
     "text": [
      "./data/wall1.png\n"
     ]
    },
    {
     "data": {
      "image/png": "[encoded data removed]",
      "text/plain": [
       "<Figure size 432x288 with 1 Axes>"
      ]
     },
     "metadata": {
      "needs_background": "light"
     },
     "output_type": "display_data"
    }
   ],
   "source": [
    "'''\n",
    "\n",
    "bikes1.png\n",
    "graf1.png\n",
    "leuven1.png\n",
    "wall1.png\n",
    "'''\n",
    "import cv2\n",
    "def get_histogram(filename):\n",
    "    print(filename)\n",
    "    image = cv2.imread(filename)\n",
    "    image= cv2.cvtColor(image, cv2.COLOR_BGR2GRAY)\n",
    "    \n",
    "    filter_size = 5\n",
    "    \n",
    "    gradient_x = cv2.Sobel(image,cv2.CV_64F,1,0,ksize=filter_size)\n",
    "    gradient_y = cv2.Sobel(image,cv2.CV_64F,0,1,ksize=filter_size)\n",
    "    magnitude = np.sqrt( (gradient_x * gradient_x) + (gradient_y * gradient_y) )\n",
    "    #print(magnitude.shape)\n",
    "    gradient_x[ np.abs(gradient_x) < 1e-6 ] = 1e-6\n",
    "    orientation = np.arctan( gradient_y / gradient_x  )\n",
    "    \n",
    "    orientation = orientation.reshape(-1,1)\n",
    "    magnitude = magnitude.reshape(-1,1)\n",
    "    plt.hist( orientation , bins = 10 , range = (-np.pi/2 , np.pi/2) ,weights = magnitude)\n",
    "    plt.show()\n",
    "    \n",
    "filenames = ['bikes1.png' ,'graf1.png', 'leuven1.png', 'wall1.png']\n",
    "path = './data/'\n",
    "for file in filenames: \n",
    "    get_histogram(path+file)\n",
    "    \n",
    "    "
   ]
  },
  {
   "cell_type": "code",
   "execution_count": null,
   "metadata": {},
   "outputs": [],
   "source": []
  }
 ],
 "metadata": {
  "kernelspec": {
   "display_name": "Python 3",
   "language": "python",
   "name": "python3"
  },
  "language_info": {
   "codemirror_mode": {
    "name": "ipython",
    "version": 3
   },
   "file_extension": ".py",
   "mimetype": "text/x-python",
   "name": "python",
   "nbconvert_exporter": "python",
   "pygments_lexer": "ipython3",
   "version": "3.8.3"
  }
 },
 "nbformat": 4,
 "nbformat_minor": 4
}
