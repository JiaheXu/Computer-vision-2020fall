{
 "cells": [
  {
   "cell_type": "code",
   "execution_count": 1,
   "metadata": {
    "colab": {
     "base_uri": "https://localhost:8080/",
     "height": 50
    },
    "colab_type": "code",
    "id": "WeG6mrwNSW6w",
    "outputId": "7d0e7501-98d6-4732-c345-304af70ea8de"
   },
   "outputs": [],
   "source": [
    "%matplotlib inline\n",
    "import matplotlib.pyplot as plt\n",
    "import numpy as np"
   ]
  },
  {
   "cell_type": "markdown",
   "metadata": {
    "colab_type": "text",
    "id": "Z0xVykeNrkue"
   },
   "source": [
    "### Read this First\n",
    "\n",
    "#### Remember that `tab` is is useful for autocompletion.\n",
    "\n",
    "#### Remember that `shift + tab` is useful for rapidly obtaining usage + documentation.\n",
    "\n"
   ]
  },
  {
   "cell_type": "markdown",
   "metadata": {
    "colab_type": "text",
    "id": "Y7yxOwmRrkvp"
   },
   "source": [
    "### Basic Image Manipulations with Numpy and OpenCV"
   ]
  },
  {
   "cell_type": "markdown",
   "metadata": {
    "colab_type": "text",
    "id": "7D_JyL4zrkvp"
   },
   "source": [
    "For this exercise, you'll need to install PyTorch and torchvision if you are running on your local computer:\n",
    "\n",
    "pip3 install torch torchvision\n"
   ]
  },
  {
   "cell_type": "markdown",
   "metadata": {
    "colab_type": "text",
    "id": "E7pZN0iorkvr"
   },
   "source": [
    "**Run the following code to download and load the MNIST training set.** (The data will be downloaded if it is not already present.)"
   ]
  },
  {
   "cell_type": "code",
   "execution_count": 2,
   "metadata": {
    "colab": {
     "base_uri": "https://localhost:8080/",
     "height": 84
    },
    "colab_type": "code",
    "id": "MtIbOTNOrkvs",
    "outputId": "8d826ece-845e-4171-d475-6ad6e9171155"
   },
   "outputs": [
    {
     "ename": "ModuleNotFoundError",
     "evalue": "No module named 'torchvision'",
     "output_type": "error",
     "traceback": [
      "\u001b[1;31m---------------------------------------------------------------------------\u001b[0m",
      "\u001b[1;31mModuleNotFoundError\u001b[0m                       Traceback (most recent call last)",
      "\u001b[1;32m<ipython-input-2-9c3e86e5b893>\u001b[0m in \u001b[0;36m<module>\u001b[1;34m\u001b[0m\n\u001b[0;32m      2\u001b[0m \u001b[0mHOME\u001b[0m \u001b[1;33m=\u001b[0m \u001b[0mPath\u001b[0m\u001b[1;33m.\u001b[0m\u001b[0mhome\u001b[0m\u001b[1;33m(\u001b[0m\u001b[1;33m)\u001b[0m\u001b[1;33m\u001b[0m\u001b[1;33m\u001b[0m\u001b[0m\n\u001b[0;32m      3\u001b[0m \u001b[0mMNIST_PATH\u001b[0m \u001b[1;33m=\u001b[0m \u001b[0mHOME\u001b[0m \u001b[1;33m/\u001b[0m \u001b[1;34m'data'\u001b[0m \u001b[1;33m/\u001b[0m \u001b[1;34m'mnist'\u001b[0m\u001b[1;33m\u001b[0m\u001b[1;33m\u001b[0m\u001b[0m\n\u001b[1;32m----> 4\u001b[1;33m \u001b[1;32mimport\u001b[0m \u001b[0mtorchvision\u001b[0m\u001b[1;33m\u001b[0m\u001b[1;33m\u001b[0m\u001b[0m\n\u001b[0m\u001b[0;32m      5\u001b[0m \u001b[0mofficial_mnist_train\u001b[0m \u001b[1;33m=\u001b[0m \u001b[0mtorchvision\u001b[0m\u001b[1;33m.\u001b[0m\u001b[0mdatasets\u001b[0m\u001b[1;33m.\u001b[0m\u001b[0mMNIST\u001b[0m\u001b[1;33m(\u001b[0m\u001b[0mstr\u001b[0m\u001b[1;33m(\u001b[0m\u001b[0mMNIST_PATH\u001b[0m\u001b[1;33m)\u001b[0m\u001b[1;33m,\u001b[0m \u001b[0mtrain\u001b[0m\u001b[1;33m=\u001b[0m\u001b[1;32mTrue\u001b[0m\u001b[1;33m,\u001b[0m \u001b[0mdownload\u001b[0m\u001b[1;33m=\u001b[0m\u001b[1;32mTrue\u001b[0m\u001b[1;33m)\u001b[0m\u001b[1;33m\u001b[0m\u001b[1;33m\u001b[0m\u001b[0m\n\u001b[0;32m      6\u001b[0m \u001b[0mtrain_images\u001b[0m \u001b[1;33m=\u001b[0m \u001b[0mofficial_mnist_train\u001b[0m\u001b[1;33m.\u001b[0m\u001b[0mtrain_data\u001b[0m\u001b[1;33m.\u001b[0m\u001b[0mnumpy\u001b[0m\u001b[1;33m(\u001b[0m\u001b[1;33m)\u001b[0m\u001b[1;33m.\u001b[0m\u001b[0mastype\u001b[0m\u001b[1;33m(\u001b[0m\u001b[0mnp\u001b[0m\u001b[1;33m.\u001b[0m\u001b[0mfloat\u001b[0m\u001b[1;33m)\u001b[0m\u001b[1;33m\u001b[0m\u001b[1;33m\u001b[0m\u001b[0m\n",
      "\u001b[1;31mModuleNotFoundError\u001b[0m: No module named 'torchvision'"
     ]
    }
   ],
   "source": [
    "from pathlib import Path\n",
    "HOME = Path.home()\n",
    "MNIST_PATH = HOME / 'data' / 'mnist'\n",
    "import torchvision\n",
    "official_mnist_train = torchvision.datasets.MNIST(str(MNIST_PATH), train=True, download=True)\n",
    "train_images = official_mnist_train.train_data.numpy().astype(np.float)\n",
    "train_labels = official_mnist_train.train_labels.numpy().astype(np.int)"
   ]
  },
  {
   "cell_type": "markdown",
   "metadata": {
    "colab_type": "text",
    "id": "P83FqFfvrkvt"
   },
   "source": [
    "**Print the shape of `train_images` and `train_labels`.**"
   ]
  },
  {
   "cell_type": "code",
   "execution_count": null,
   "metadata": {
    "colab": {
     "base_uri": "https://localhost:8080/",
     "height": 34
    },
    "colab_type": "code",
    "id": "ugX_uB-irkvt",
    "outputId": "75e9ee31-77ea-4f7e-8854-3a741d858cb6"
   },
   "outputs": [],
   "source": [
    "print(train_images.shape,\" \",train_labels.shape)"
   ]
  },
  {
   "cell_type": "markdown",
   "metadata": {
    "colab_type": "text",
    "id": "cqo0Kz1Qrkvz"
   },
   "source": [
    "**In the following Markdown Cell, answer:**\n",
    "\n",
    "**Based on these shapes, how many training images are there? And what is the height and width of each image?**"
   ]
  },
  {
   "cell_type": "markdown",
   "metadata": {
    "colab_type": "text",
    "id": "qrWv5s4xrkv0"
   },
   "source": [
    "60000 images, height=28 , width=28"
   ]
  },
  {
   "cell_type": "markdown",
   "metadata": {
    "colab_type": "text",
    "id": "qyDiRLEorkv0"
   },
   "source": [
    "**Form `first_image` as a 2-D array with shape `[28, 28]`, containing the 0-th image of `train_images`, and visualize `first_image` using `plt.imshow`.** Also feel free to run `plt.set_cmap('gray')` after plotting the image if you'd like to see it using a grayscale colormap."
   ]
  },
  {
   "cell_type": "code",
   "execution_count": null,
   "metadata": {
    "colab": {
     "base_uri": "https://localhost:8080/",
     "height": 265
    },
    "colab_type": "code",
    "id": "pb2Dyu3Krkv1",
    "outputId": "b885910f-716b-4ea1-a6f1-66faa8abdc69"
   },
   "outputs": [],
   "source": [
    "first_image = train_images[0]\n",
    "plt.imshow(first_image)\n",
    "plt.set_cmap('gray')"
   ]
  },
  {
   "cell_type": "markdown",
   "metadata": {
    "colab_type": "text",
    "id": "Sc8i0Nk3rkv3"
   },
   "source": [
    "**Print the label of the 0-th image.**"
   ]
  },
  {
   "cell_type": "code",
   "execution_count": null,
   "metadata": {
    "colab": {
     "base_uri": "https://localhost:8080/",
     "height": 34
    },
    "colab_type": "code",
    "id": "lo4wAkHtrkv3",
    "outputId": "df45f992-841d-42c5-d353-0ff9e072a484"
   },
   "outputs": [],
   "source": [
    "print(train_labels[0])"
   ]
  },
  {
   "cell_type": "markdown",
   "metadata": {
    "colab_type": "text",
    "id": "7PKyaHjXrkv7"
   },
   "source": [
    "**Create a 2-D array `first_image_flipped` that consists of the first training image *but flipped horizontally*, and visualize the result using `plt.imshow`.** Note that `first_image` has a shape of `[H, W]`, where `H` is the height of the image and `W` is the width of the image."
   ]
  },
  {
   "cell_type": "code",
   "execution_count": null,
   "metadata": {
    "colab": {
     "base_uri": "https://localhost:8080/",
     "height": 282
    },
    "colab_type": "code",
    "id": "g1Z6_SWDrkv7",
    "outputId": "951f3413-926e-444f-93b9-8d98448fe1e0"
   },
   "outputs": [],
   "source": [
    "import cv2\n",
    "first_image_flipped = cv2.flip(first_image,1)\n",
    "plt.imshow(first_image_flipped)"
   ]
  },
  {
   "cell_type": "markdown",
   "metadata": {
    "colab_type": "text",
    "id": "iEhKUYIkrkv9"
   },
   "source": [
    "**Create a 2-D array `first_image_down_2` that consists of the first training image but downsampled by a factor of 2, and plot the result using `plt.imshow`.** (The resulting image should have shape `[14, 14]`.)"
   ]
  },
  {
   "cell_type": "code",
   "execution_count": null,
   "metadata": {
    "colab": {
     "base_uri": "https://localhost:8080/",
     "height": 298
    },
    "colab_type": "code",
    "id": "eSEbly8Xrkv-",
    "outputId": "cbab57e1-d76b-4057-b3cd-fa1b81112f18"
   },
   "outputs": [],
   "source": [
    "first_image_down_2 = train_images[0][::2 , ::2]\n",
    "print(first_image_down_2.shape)\n",
    "plt.imshow(first_image_down_2)"
   ]
  },
  {
   "cell_type": "markdown",
   "metadata": {
    "colab_type": "text",
    "id": "PPj34qQ_rkv_"
   },
   "source": [
    "**Create a 2-D array `first_image_down_4` that consists of the first training image but downsampled by a factor of 4, and plot the result using `plt.imshow`.** (The resulting image should have shape `[7, 7]`.)"
   ]
  },
  {
   "cell_type": "code",
   "execution_count": null,
   "metadata": {
    "colab": {
     "base_uri": "https://localhost:8080/",
     "height": 298
    },
    "colab_type": "code",
    "id": "nQWgNmSSrkwA",
    "outputId": "d53094d8-fe08-4b28-a0a7-9b67ff8c0ae2"
   },
   "outputs": [],
   "source": [
    "first_image_down_4 = train_images[0][::4 , ::4]\n",
    "print(first_image_down_4.shape)\n",
    "plt.imshow(first_image_down_4)"
   ]
  },
  {
   "cell_type": "markdown",
   "metadata": {
    "colab_type": "text",
    "id": "pvMjhMlorkwD"
   },
   "source": [
    "**Print the minimum and maximum values of `first_image`.**"
   ]
  },
  {
   "cell_type": "code",
   "execution_count": null,
   "metadata": {
    "colab": {
     "base_uri": "https://localhost:8080/",
     "height": 34
    },
    "colab_type": "code",
    "id": "e-exxIvTrkwE",
    "outputId": "7fe06ab5-d4a7-4501-8dee-d3ffc0bb751c"
   },
   "outputs": [],
   "source": [
    "print(np.min(first_image),\" \",np.max(first_image))"
   ]
  },
  {
   "cell_type": "markdown",
   "metadata": {
    "colab_type": "text",
    "id": "FEmPgbJGrkwG"
   },
   "source": [
    "**Create a copy of `first_image`, `first_image_copy`, using `first_image_copy = first_image.copy()`.**"
   ]
  },
  {
   "cell_type": "code",
   "execution_count": null,
   "metadata": {
    "colab": {},
    "colab_type": "code",
    "id": "O3NIjyeRrkwG"
   },
   "outputs": [],
   "source": [
    "first_image_copy = first_image.copy()"
   ]
  },
  {
   "cell_type": "markdown",
   "metadata": {
    "colab_type": "text",
    "id": "pEFKOl2vrkwI"
   },
   "source": [
    "**Create a 2-D boolean mask named `mask` with the same shape as `first_image_copy`, with elements that are `True` whenever a pixel's value exceeds 50 and which is `False` otherwise. Print `mask`'s `dtype` and also print how many values are `True`.**"
   ]
  },
  {
   "cell_type": "code",
   "execution_count": null,
   "metadata": {
    "colab": {
     "base_uri": "https://localhost:8080/",
     "height": 50
    },
    "colab_type": "code",
    "id": "r_pRWzAQrkwK",
    "outputId": "baf0937f-45be-4de1-839b-b1c2f1674e72"
   },
   "outputs": [],
   "source": [
    "mask = first_image_copy>50\n",
    "print('dtype:',mask.dtype)\n",
    "print('number of True:',np.sum(mask!=False))"
   ]
  },
  {
   "cell_type": "markdown",
   "metadata": {
    "colab_type": "text",
    "id": "2tvDj00ZrkwM"
   },
   "source": [
    "**Visualize `mask` using `plt.imshow`.**"
   ]
  },
  {
   "cell_type": "code",
   "execution_count": null,
   "metadata": {
    "colab": {
     "base_uri": "https://localhost:8080/",
     "height": 282
    },
    "colab_type": "code",
    "id": "AgnuuO4SrkwN",
    "outputId": "f6817535-2a4c-4911-fecc-62abcde839f7"
   },
   "outputs": [],
   "source": [
    "plt.imshow(mask)"
   ]
  },
  {
   "cell_type": "markdown",
   "metadata": {
    "colab_type": "text",
    "id": "zrnd7fcLrkwQ"
   },
   "source": [
    "**Create `mask_upper_half` by keeping only the upper half of `mask`, and visualize `mask_upper_half` using `plt.imshow`.** (`mask_upper_half` should have shape `[14, 28]`.)"
   ]
  },
  {
   "cell_type": "code",
   "execution_count": null,
   "metadata": {
    "colab": {
     "base_uri": "https://localhost:8080/",
     "height": 232
    },
    "colab_type": "code",
    "id": "qyPm1LO5rkwR",
    "outputId": "800b42b4-9177-4a2c-ee0c-08df2008f4ef"
   },
   "outputs": [],
   "source": [
    "mask_upper_half = mask[1:15 , : ]\n",
    "plt.imshow(mask_upper_half)\n",
    "print(mask_upper_half.shape)"
   ]
  },
  {
   "cell_type": "markdown",
   "metadata": {
    "colab_type": "text",
    "id": "T1bF8NMfrkwV"
   },
   "source": [
    "**Halve all pixels that exceed 50 in `first_image_copy` that exceed a value of 50, in place, using `mask`, and then print the minimum and maximum values of `first_image_copy`.**"
   ]
  },
  {
   "cell_type": "code",
   "execution_count": null,
   "metadata": {
    "colab": {
     "base_uri": "https://localhost:8080/",
     "height": 34
    },
    "colab_type": "code",
    "id": "UEen_3bVrkwV",
    "outputId": "d6fbaa70-005e-4f04-f511-585d6d679211"
   },
   "outputs": [],
   "source": [
    "for i in range(28):\n",
    "  for j in range(28):\n",
    "    if(mask[i,j]==True):\n",
    "      first_image_copy[i,j] = first_image[i,j]/2\n",
    "print(np.min(first_image_copy),np.max(first_image_copy))"
   ]
  },
  {
   "cell_type": "markdown",
   "metadata": {
    "colab_type": "text",
    "id": "S2CnfiRnrkwa"
   },
   "source": [
    "**Form `first_ten_images_as_one` by concatenating the first 10 training MNIST images horizontally, and visualize the result using `plt.imshow`.**"
   ]
  },
  {
   "cell_type": "code",
   "execution_count": null,
   "metadata": {
    "colab": {
     "base_uri": "https://localhost:8080/",
     "height": 102
    },
    "colab_type": "code",
    "id": "xVGC9hA-rkwa",
    "outputId": "e2a6c4e8-c772-4db4-b01c-724cf86a72d5"
   },
   "outputs": [],
   "source": [
    "first_ten_images_as_one = np.concatenate(train_images[0:10],axis=1)\n",
    "plt.imshow(first_ten_images_as_one)"
   ]
  },
  {
   "cell_type": "markdown",
   "metadata": {
    "colab_type": "text",
    "id": "ksR-o1fPko27"
   },
   "source": [
    "**We are also going to make sure of the OpenCV libraries.  To install openCV you will need to run**\n",
    "\n",
    "**pip3 install opencv-python**"
   ]
  },
  {
   "cell_type": "code",
   "execution_count": null,
   "metadata": {
    "colab": {},
    "colab_type": "code",
    "id": "6zmi4QTEko28"
   },
   "outputs": [],
   "source": [
    "import cv2"
   ]
  },
  {
   "cell_type": "code",
   "execution_count": null,
   "metadata": {
    "colab": {
     "base_uri": "https://localhost:8080/",
     "height": 34
    },
    "colab_type": "code",
    "id": "RmXgNZDkko2-",
    "outputId": "672ecbc6-3f45-4419-8e50-c80354b46594"
   },
   "outputs": [],
   "source": [
    "cap = cv2.VideoCapture(0)\n",
    "if not (cap.isOpened()):\n",
    "    print('Could not open video device')"
   ]
  },
  {
   "cell_type": "markdown",
   "metadata": {
    "colab_type": "text",
    "id": "YZJkQJCgko3C"
   },
   "source": [
    "**If this doesn't work, or you are running on Colab, then you can instead place an image in your local directory with the name testimg.jpg and skip over the next line.**"
   ]
  },
  {
   "cell_type": "code",
   "execution_count": null,
   "metadata": {
    "colab": {},
    "colab_type": "code",
    "id": "WiLsRP22ko3C"
   },
   "outputs": [],
   "source": [
    "ret, frame = cap.read()\n",
    "cv2.imwrite('testim.jpg',frame)"
   ]
  },
  {
   "cell_type": "code",
   "execution_count": null,
   "metadata": {
    "colab": {},
    "colab_type": "code",
    "id": "A5iEs4Blko3E",
    "scrolled": true
   },
   "outputs": [],
   "source": [
    "frame = cv2.imread('testim.jpg')\n",
    "plt.imshow(frame)"
   ]
  },
  {
   "cell_type": "markdown",
   "metadata": {
    "colab_type": "text",
    "id": "6hMg4TAKko3F"
   },
   "source": [
    "**Does something look wrong here? Explain what is going on in the box below:**"
   ]
  },
  {
   "cell_type": "markdown",
   "metadata": {
    "colab_type": "text",
    "id": "0O6_pt6lko3G"
   },
   "source": [
    "the picture is too blue to what it should be. imread() get the picture in order of BGR, NOT RGB"
   ]
  },
  {
   "cell_type": "markdown",
   "metadata": {
    "colab_type": "text",
    "id": "IEIQ6y79ko3G"
   },
   "source": [
    "**Can you fix this on your own?  Add some code below that addresses the problem you've found by directly manipulating the image**"
   ]
  },
  {
   "cell_type": "code",
   "execution_count": null,
   "metadata": {
    "colab": {},
    "colab_type": "code",
    "id": "CrOlAvOKko3G"
   },
   "outputs": [],
   "source": [
    "B , G , R = cv2.split(frame) \n",
    "correct_frame = cv2.merge([R,G,B]) \n",
    "plt.imshow(correct_frame)"
   ]
  },
  {
   "cell_type": "markdown",
   "metadata": {
    "colab_type": "text",
    "id": "z8M9gWrDko3I"
   },
   "source": [
    "**This is common enough that we have tools for this.  Please do the same using the built in function cv2.cvtColor**\n",
    "\n",
    "\n"
   ]
  },
  {
   "cell_type": "code",
   "execution_count": null,
   "metadata": {
    "colab": {},
    "colab_type": "code",
    "id": "XvzpAhoNko3J"
   },
   "outputs": [],
   "source": [
    "correct_frame = cv2.cvtColor(frame, cv2.COLOR_BGR2RGB)\n",
    "plt.imshow(correct_frame)"
   ]
  },
  {
   "cell_type": "markdown",
   "metadata": {
    "colab_type": "text",
    "id": "qMWsqhfmko3K"
   },
   "source": [
    "**Now convert the image to a gray-scale image using cvtColor**"
   ]
  },
  {
   "cell_type": "code",
   "execution_count": null,
   "metadata": {
    "colab": {},
    "colab_type": "code",
    "id": "lhduqBFDko3K"
   },
   "outputs": [],
   "source": [
    "gray_scale_image = cv2.cvtColor(frame, cv2.COLOR_BGR2GRAY)\n",
    "plt.imshow(gray_scale_image , cmap = 'gray')"
   ]
  },
  {
   "cell_type": "markdown",
   "metadata": {
    "colab_type": "text",
    "id": "W6tqHmJsko3M"
   },
   "source": [
    "**Now, write some code todo the following:  Pad the image with a single row and column of zeros top and bottom. Create a version of the image that is shifted by one pixel to the right, and one to the left. Display the absolute value of the difference between the original image and the shift images.  What does it seem to be doing?**\n",
    "\n"
   ]
  },
  {
   "cell_type": "code",
   "execution_count": null,
   "metadata": {
    "colab": {},
    "colab_type": "code",
    "id": "f9xLamKEko3N"
   },
   "outputs": [],
   "source": [
    "m,n,channel = correct_frame.shape\n",
    "m = m + 2\n",
    "n = n + 2\n",
    "origin_img = np.zeros((m,n,channel),dtype= np.int)\n",
    "origin_img[1:m-1 , 1:n-1 , ...] = correct_frame\n",
    "\n",
    "left_shifted_img = np.zeros((m,n,channel),dtype= np.int)\n",
    "left_shifted_img[0:m-2 , 0:n-2 , ...] = correct_frame\n",
    "diff_of_OL = origin_img - left_shifted_img\n",
    "plt.imshow(diff_of_OL)\n",
    "plt.show()\n",
    "right_shifted_img = np.zeros((m,n,channel),dtype= np.int)\n",
    "right_shifted_img[2:m , 2:n , ...] = correct_frame\n",
    "\n",
    "diff_of_OR = origin_img - right_shifted_img\n",
    "plt.imshow(diff_of_OR)\n",
    "plt.show()"
   ]
  },
  {
   "cell_type": "code",
   "execution_count": null,
   "metadata": {},
   "outputs": [],
   "source": [
    "It seems to be depicting the edges of areass which have different colors"
   ]
  },
  {
   "cell_type": "markdown",
   "metadata": {
    "colab_type": "text",
    "id": "lVYYa0Fmko3P"
   },
   "source": [
    "**Now, compute the average of the shifted images.  What does this seem to be doing?**"
   ]
  },
  {
   "cell_type": "code",
   "execution_count": null,
   "metadata": {
    "colab": {},
    "colab_type": "code",
    "id": "_IRsxwD9ko3P"
   },
   "outputs": [],
   "source": [
    "avg_img = (left_shifted_img + right_shifted_img)//2\n",
    "plt.imshow(avg_img)\n",
    "plt.show()\n",
    "plt.imshow(avg_img - origin_img)\n",
    "plt.show()"
   ]
  },
  {
   "cell_type": "markdown",
   "metadata": {},
   "source": [
    "It seems that the average of shifted images is the original image"
   ]
  },
  {
   "cell_type": "markdown",
   "metadata": {
    "colab_type": "text",
    "id": "YX2wqWdFko3R"
   },
   "source": [
    "**To gain more experience, you may want to play with other ways you can transform images -- changing contrast, brightness, or performing histogram equalization are all common ways to enhance or normalize images before processing them.**"
   ]
  }
 ],
 "metadata": {
  "celltoolbar": "Raw Cell Format",
  "colab": {
   "collapsed_sections": [],
   "name": "“(Week 1) Images and Basic Image Manipulation.ipynb”的副本",
   "provenance": []
  },
  "kernelspec": {
   "display_name": "Python 3",
   "language": "python",
   "name": "python3"
  },
  "language_info": {
   "codemirror_mode": {
    "name": "ipython",
    "version": 3
   },
   "file_extension": ".py",
   "mimetype": "text/x-python",
   "name": "python",
   "nbconvert_exporter": "python",
   "pygments_lexer": "ipython3",
   "version": "3.8.3"
  }
 },
 "nbformat": 4,
 "nbformat_minor": 1
}
